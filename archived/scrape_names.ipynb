{
 "cells": [
  {
   "cell_type": "markdown",
   "metadata": {},
   "source": [
    "# scrape names"
   ]
  },
  {
   "cell_type": "code",
   "execution_count": 33,
   "metadata": {},
   "outputs": [],
   "source": [
    "import requests\n",
    "import bs4\n",
    "import tqdm\n",
    "from time import sleep"
   ]
  },
  {
   "cell_type": "code",
   "execution_count": 39,
   "metadata": {},
   "outputs": [
    {
     "name": "stderr",
     "output_type": "stream",
     "text": [
      "100%|██████████| 75/75 [00:53<00:00,  1.55it/s]"
     ]
    },
    {
     "name": "stdout",
     "output_type": "stream",
     "text": [
      "22263\n",
      "['AABRAHAM', 'AADA', 'AADOLF', 'AAFJE', 'AAGE', 'AALI', 'AALIS', 'AALIYAH', 'AAMINA', 'AAMINAH', 'AAMIR', 'AAMIR', 'AAMIR', 'AAMU', 'AAPELI', 'AAPO', 'AAREN', 'AARNE', 'AARO', 'AARÓN', 'AARON', 'AART', 'AARTHI', 'AARTI', 'AASE', 'AATAMI', 'AATOS', 'AATTO', 'AATU', 'AAVA', 'ABACUC', 'ABADDON', 'ABBÁN', 'ABBAS', 'ABBAS', 'ABBE', 'ABBEY', 'ABBI', 'ABBIE', 'ABBY', 'ABD AL-AZIZ', 'ABD AL-HAMID', 'ABD AL-KADER', 'ABD AL-KARIM', 'ABD ALLAH', 'ABD AL-LATIF', 'ABD AL-MALIK', 'ABD AL-QADIR', 'ABD AL-RAHMAN', 'ABD AL-RASHID', 'ABD AL-WALI', 'ABD AR-RAHMAN', 'ABDERRAHMANE', 'ABDIAS', 'ABDIOU', 'ABDOLLAH', 'ABDUL', 'ABDULAH', 'ABDUL-AZIZ', 'ABDUL-HAMID', 'ABDÜLHAMİT', 'ABDÜLKADİR', 'ABDÜLKERİM', 'ABDULLA', 'ABDULLAH', 'ABDÜLLATİF', 'ABDULLO', 'ABDULLOHI', 'ABDUL-RAHMAN', 'ABDURAKHMAN', 'ABDUR-RAHMAN', 'ABDUR-RASHID', 'ABDUWELI', 'ABE', 'ABE', 'ABEBA', 'ABEDNEGO', 'ABEGAIL', 'ÁBEL', 'ABEL', 'ABELE', 'ABELONE', 'ABENA', 'ABENE', 'ABENI', 'ABENNER', 'ABERASH', 'ABESSA', 'ABESSALOM', 'ABHA', 'ABHAY', 'ABHIJEET', 'ABHIJIT', 'ABHILASH', 'ABHILASHA', 'ABHINAV', 'ABHISHEK', 'ABI', 'ABIA', 'ABIAH']\n"
     ]
    },
    {
     "name": "stderr",
     "output_type": "stream",
     "text": [
      "\n"
     ]
    }
   ],
   "source": [
    "url = 'https://www.behindthename.com/names/{}'\n",
    "names = []\n",
    "pages = []\n",
    "for i in tqdm.tqdm(range(1,76)):\n",
    "    r = requests.get(url.format(i))\n",
    "    pages.append(r)\n",
    "    # r.text\n",
    "    if r.status_code != 200:\n",
    "        print('error:' + url.format(i))\n",
    "        continue\n",
    "    out = bs4.BeautifulSoup(r.text, 'html.parser')\n",
    "    name_spans = out.find_all(name='span',attrs={'class':'listname'})\n",
    "    name_list = [i.a.text[:i.a.text.find('(') if '(' in i.a.text else 100].strip(' \\'') for i in name_spans]\n",
    "    names.extend(name_list)\n",
    "    sleep(0.05)\n",
    "print(len(names))\n",
    "print(names[:100])"
   ]
  },
  {
   "cell_type": "code",
   "execution_count": 40,
   "metadata": {},
   "outputs": [],
   "source": [
    "with open('names.txt', 'w') as f:\n",
    "    for i in names:\n",
    "        f.write(i+'\\n')\n",
    "    "
   ]
  },
  {
   "cell_type": "code",
   "execution_count": null,
   "metadata": {},
   "outputs": [],
   "source": []
  }
 ],
 "metadata": {
  "kernelspec": {
   "display_name": "Python 3",
   "language": "python",
   "name": "python3"
  },
  "language_info": {
   "codemirror_mode": {
    "name": "ipython",
    "version": 3
   },
   "file_extension": ".py",
   "mimetype": "text/x-python",
   "name": "python",
   "nbconvert_exporter": "python",
   "pygments_lexer": "ipython3",
   "version": "3.7.3"
  }
 },
 "nbformat": 4,
 "nbformat_minor": 2
}
