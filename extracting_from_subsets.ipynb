{
 "cells": [
  {
   "cell_type": "code",
   "execution_count": 1,
   "metadata": {},
   "outputs": [
    {
     "name": "stdout",
     "output_type": "stream",
     "text": [
      "/home/jovyan/work\n"
     ]
    }
   ],
   "source": [
    "cd .."
   ]
  },
  {
   "cell_type": "code",
   "execution_count": 2,
   "metadata": {},
   "outputs": [],
   "source": [
    "import pandas as pd\n",
    "import re\n",
    "import spacy\n",
    "from tqdm import tqdm_notebook as tqdm\n",
    "from collections import Counter\n",
    "\n",
    "df = pd.read_csv('local_data/NoMoreSilence_ProjectDataV2.tsv', sep='\\t')"
   ]
  },
  {
   "cell_type": "code",
   "execution_count": 3,
   "metadata": {},
   "outputs": [
    {
     "data": {
      "text/html": [
       "<div>\n",
       "<style scoped>\n",
       "    .dataframe tbody tr th:only-of-type {\n",
       "        vertical-align: middle;\n",
       "    }\n",
       "\n",
       "    .dataframe tbody tr th {\n",
       "        vertical-align: top;\n",
       "    }\n",
       "\n",
       "    .dataframe thead th {\n",
       "        text-align: right;\n",
       "    }\n",
       "</style>\n",
       "<table border=\"1\" class=\"dataframe\">\n",
       "  <thead>\n",
       "    <tr style=\"text-align: right;\">\n",
       "      <th></th>\n",
       "      <th>Unnamed: 0</th>\n",
       "      <th>Collection Title</th>\n",
       "      <th>Title</th>\n",
       "      <th>Local Identifier</th>\n",
       "      <th>Type</th>\n",
       "      <th>Date</th>\n",
       "      <th>Date Type</th>\n",
       "      <th>Publication/Origination Info</th>\n",
       "      <th>Creator 1 Name</th>\n",
       "      <th>Creator 1 NameType</th>\n",
       "      <th>...</th>\n",
       "      <th>Subject (Topic) 4 Heading Type</th>\n",
       "      <th>Subject (Topic) 4 Source</th>\n",
       "      <th>Subject (Topic) 5 Heading</th>\n",
       "      <th>Subject (Topic) 5 Heading Type</th>\n",
       "      <th>Subject (Topic) 5 Source</th>\n",
       "      <th>Subject (Topic) 6 Heading</th>\n",
       "      <th>Subject (Topic) 6 Heading Type</th>\n",
       "      <th>Subject (Topic) 6 Source</th>\n",
       "      <th>Ocr text</th>\n",
       "      <th>Corrected Text</th>\n",
       "    </tr>\n",
       "  </thead>\n",
       "  <tbody>\n",
       "    <tr>\n",
       "      <th>0</th>\n",
       "      <td>0</td>\n",
       "      <td>AIDS Legal Referral Panel Records, 2000-46, Bo...</td>\n",
       "      <td>\"Prop 64: The AIDS Initiative in California\"</td>\n",
       "      <td>glbths_200046_003_002</td>\n",
       "      <td>text</td>\n",
       "      <td>1986</td>\n",
       "      <td>created</td>\n",
       "      <td>Digital resource published by the Regents of t...</td>\n",
       "      <td>AIDS Legal Referral Panel</td>\n",
       "      <td>corpname</td>\n",
       "      <td>...</td>\n",
       "      <td>topic</td>\n",
       "      <td>lcsh</td>\n",
       "      <td></td>\n",
       "      <td></td>\n",
       "      <td></td>\n",
       "      <td></td>\n",
       "      <td></td>\n",
       "      <td></td>\n",
       "      <td>PROPOSITION 64 The AIDSInitiativein California...</td>\n",
       "      <td>proposition 64 the aids initiative in califor...</td>\n",
       "    </tr>\n",
       "    <tr>\n",
       "      <th>1</th>\n",
       "      <td>1</td>\n",
       "      <td>AIDS Legal Referral Panel Records, 2000-46, Bo...</td>\n",
       "      <td>Management</td>\n",
       "      <td>glbths_200046_004_004</td>\n",
       "      <td>text</td>\n",
       "      <td>circa 1992</td>\n",
       "      <td>created</td>\n",
       "      <td>Digital resource published by the Regents of t...</td>\n",
       "      <td>AIDS Legal Referral Panel</td>\n",
       "      <td>corpname</td>\n",
       "      <td>...</td>\n",
       "      <td>topic</td>\n",
       "      <td>lcsh</td>\n",
       "      <td></td>\n",
       "      <td></td>\n",
       "      <td></td>\n",
       "      <td></td>\n",
       "      <td></td>\n",
       "      <td></td>\n",
       "      <td>MAKING YOUR WILL California State Aids Legal S...</td>\n",
       "      <td>making your will california state aids legal ...</td>\n",
       "    </tr>\n",
       "    <tr>\n",
       "      <th>2</th>\n",
       "      <td>2</td>\n",
       "      <td>AIDS Legal Referral Panel Records, 2000-46, Bo...</td>\n",
       "      <td>Board Meetings</td>\n",
       "      <td>glbths_200046_009_005</td>\n",
       "      <td>text</td>\n",
       "      <td>1995-1996</td>\n",
       "      <td>created</td>\n",
       "      <td>Digital resource published by the Regents of t...</td>\n",
       "      <td>AIDS Legal Referral Panel</td>\n",
       "      <td>corpname</td>\n",
       "      <td>...</td>\n",
       "      <td>topic</td>\n",
       "      <td>lcsh</td>\n",
       "      <td></td>\n",
       "      <td></td>\n",
       "      <td></td>\n",
       "      <td></td>\n",
       "      <td></td>\n",
       "      <td></td>\n",
       "      <td>January 11, 1997 Community Liaison Committee c...</td>\n",
       "      <td>january 11,1997 community liaison committee c...</td>\n",
       "    </tr>\n",
       "    <tr>\n",
       "      <th>3</th>\n",
       "      <td>3</td>\n",
       "      <td>AIDS Legal Referral Panel Records, 2000-46, Bo...</td>\n",
       "      <td>Correspondence</td>\n",
       "      <td>glbths_200046_001_0010</td>\n",
       "      <td>text</td>\n",
       "      <td>1985-1987</td>\n",
       "      <td>created</td>\n",
       "      <td>Digital resource published by the Regents of t...</td>\n",
       "      <td>AIDS Legal Referral Panel</td>\n",
       "      <td>corpname</td>\n",
       "      <td>...</td>\n",
       "      <td>topic</td>\n",
       "      <td>lcsh</td>\n",
       "      <td></td>\n",
       "      <td></td>\n",
       "      <td></td>\n",
       "      <td></td>\n",
       "      <td></td>\n",
       "      <td></td>\n",
       "      <td>^ GREAT REPUBLIC IIMSURAIMCE COMPANY i 470 SOU...</td>\n",
       "      <td>great republic iimsuraimce company i 470 sout...</td>\n",
       "    </tr>\n",
       "    <tr>\n",
       "      <th>4</th>\n",
       "      <td>4</td>\n",
       "      <td>AIDS Legal Referral Panel Records, 2000-46, Bo...</td>\n",
       "      <td>Letters of support</td>\n",
       "      <td>glbths_200046_003_006</td>\n",
       "      <td>text</td>\n",
       "      <td>1993</td>\n",
       "      <td>created</td>\n",
       "      <td>Digital resource published by the Regents of t...</td>\n",
       "      <td>AIDS Legal Referral Panel</td>\n",
       "      <td>corpname</td>\n",
       "      <td>...</td>\n",
       "      <td>topic</td>\n",
       "      <td>lcsh</td>\n",
       "      <td></td>\n",
       "      <td></td>\n",
       "      <td></td>\n",
       "      <td></td>\n",
       "      <td></td>\n",
       "      <td></td>\n",
       "      <td>SANFRANCISCOAIDSFOUNDATION P.O.BOX 426182,SANF...</td>\n",
       "      <td>san francisco aids foundation p. o. box 42618...</td>\n",
       "    </tr>\n",
       "  </tbody>\n",
       "</table>\n",
       "<p>5 rows × 55 columns</p>\n",
       "</div>"
      ],
      "text/plain": [
       "   Unnamed: 0                                   Collection Title  \\\n",
       "0           0  AIDS Legal Referral Panel Records, 2000-46, Bo...   \n",
       "1           1  AIDS Legal Referral Panel Records, 2000-46, Bo...   \n",
       "2           2  AIDS Legal Referral Panel Records, 2000-46, Bo...   \n",
       "3           3  AIDS Legal Referral Panel Records, 2000-46, Bo...   \n",
       "4           4  AIDS Legal Referral Panel Records, 2000-46, Bo...   \n",
       "\n",
       "                                          Title       Local Identifier   Type  \\\n",
       "0  \"Prop 64: The AIDS Initiative in California\"   glbths_200046_003_002  text   \n",
       "1                                    Management   glbths_200046_004_004  text   \n",
       "2                                Board Meetings   glbths_200046_009_005  text   \n",
       "3                                Correspondence  glbths_200046_001_0010  text   \n",
       "4                            Letters of support   glbths_200046_003_006  text   \n",
       "\n",
       "        Date  Date Type                       Publication/Origination Info  \\\n",
       "0        1986   created  Digital resource published by the Regents of t...   \n",
       "1  circa 1992   created  Digital resource published by the Regents of t...   \n",
       "2   1995-1996   created  Digital resource published by the Regents of t...   \n",
       "3   1985-1987   created  Digital resource published by the Regents of t...   \n",
       "4        1993   created  Digital resource published by the Regents of t...   \n",
       "\n",
       "              Creator 1 Name Creator 1 NameType  ...  \\\n",
       "0  AIDS Legal Referral Panel           corpname  ...   \n",
       "1  AIDS Legal Referral Panel           corpname  ...   \n",
       "2  AIDS Legal Referral Panel           corpname  ...   \n",
       "3  AIDS Legal Referral Panel           corpname  ...   \n",
       "4  AIDS Legal Referral Panel           corpname  ...   \n",
       "\n",
       "  Subject (Topic) 4 Heading Type Subject (Topic) 4 Source  \\\n",
       "0                          topic                     lcsh   \n",
       "1                          topic                     lcsh   \n",
       "2                          topic                     lcsh   \n",
       "3                          topic                     lcsh   \n",
       "4                          topic                     lcsh   \n",
       "\n",
       "  Subject (Topic) 5 Heading Subject (Topic) 5 Heading Type  \\\n",
       "0                                                            \n",
       "1                                                            \n",
       "2                                                            \n",
       "3                                                            \n",
       "4                                                            \n",
       "\n",
       "  Subject (Topic) 5 Source Subject (Topic) 6 Heading  \\\n",
       "0                                                      \n",
       "1                                                      \n",
       "2                                                      \n",
       "3                                                      \n",
       "4                                                      \n",
       "\n",
       "  Subject (Topic) 6 Heading Type Subject (Topic) 6 Source  \\\n",
       "0                                                           \n",
       "1                                                           \n",
       "2                                                           \n",
       "3                                                           \n",
       "4                                                           \n",
       "\n",
       "                                            Ocr text  \\\n",
       "0  PROPOSITION 64 The AIDSInitiativein California...   \n",
       "1  MAKING YOUR WILL California State Aids Legal S...   \n",
       "2  January 11, 1997 Community Liaison Committee c...   \n",
       "3  ^ GREAT REPUBLIC IIMSURAIMCE COMPANY i 470 SOU...   \n",
       "4  SANFRANCISCOAIDSFOUNDATION P.O.BOX 426182,SANF...   \n",
       "\n",
       "                                      Corrected Text  \n",
       "0   proposition 64 the aids initiative in califor...  \n",
       "1   making your will california state aids legal ...  \n",
       "2   january 11,1997 community liaison committee c...  \n",
       "3   great republic iimsuraimce company i 470 sout...  \n",
       "4   san francisco aids foundation p. o. box 42618...  \n",
       "\n",
       "[5 rows x 55 columns]"
      ]
     },
     "execution_count": 3,
     "metadata": {},
     "output_type": "execute_result"
    }
   ],
   "source": [
    "df.head()"
   ]
  },
  {
   "cell_type": "markdown",
   "metadata": {},
   "source": [
    "# Names"
   ]
  },
  {
   "cell_type": "code",
   "execution_count": 4,
   "metadata": {},
   "outputs": [
    {
     "data": {
      "text/plain": [
       "297    Leadership Recognition Dinner brochure, San Fr...\n",
       "377    Program for the San Francisco AIDS Foundation ...\n",
       "Name: Title, dtype: object"
      ]
     },
     "execution_count": 4,
     "metadata": {},
     "output_type": "execute_result"
    }
   ],
   "source": [
    "df.Title[df.Title.map(lambda a: 'dinner' in a.lower())]"
   ]
  },
  {
   "cell_type": "code",
   "execution_count": 5,
   "metadata": {},
   "outputs": [],
   "source": [
    "dinner_indices = [297, 377]\n",
    "# these have a large number of names"
   ]
  },
  {
   "cell_type": "code",
   "execution_count": 6,
   "metadata": {},
   "outputs": [],
   "source": [
    "nlp = spacy.load('en_core_web_md')"
   ]
  },
  {
   "cell_type": "code",
   "execution_count": 7,
   "metadata": {},
   "outputs": [],
   "source": [
    "sliced_text = df.loc[dinner_indices, 'Corrected Text'].tolist()\n",
    "raw_text = df.loc[dinner_indices, 'Ocr text'].tolist()"
   ]
  },
  {
   "cell_type": "code",
   "execution_count": 8,
   "metadata": {},
   "outputs": [
    {
     "data": {
      "application/vnd.jupyter.widget-view+json": {
       "model_id": "7ac20fc917dc4d0bb9b9f070bddb2930",
       "version_major": 2,
       "version_minor": 0
      },
      "text/plain": [
       "HBox(children=(IntProgress(value=1, bar_style='info', max=1), HTML(value='')))"
      ]
     },
     "metadata": {},
     "output_type": "display_data"
    },
    {
     "name": "stdout",
     "output_type": "stream",
     "text": [
      "\n",
      "653\n"
     ]
    }
   ],
   "source": [
    "def remove_bad_chars(a_str, keep_chars=r'\\w\\d#,\\.\\-\\(\\)=\\*\\s'):\n",
    "    return re.sub(r'[^'+keep_chars+']','',a_str)\n",
    "\n",
    "raw1_obj = nlp(remove_bad_chars(raw_text[0]))\n",
    "\n",
    "# find names checking noun chunks against english vocab\n",
    "def find_names(spacy_obj, is_valid_name=lambda a: a not in nlp.vocab, keep_context=True):\n",
    "    candidates = []\n",
    "    for ch in tqdm(spacy_obj.noun_chunks):\n",
    "        tmp = []\n",
    "        for w in ch:\n",
    "            if is_valid_name(w.text):\n",
    "                tmp.append(w) \n",
    "        if tmp:\n",
    "            if keep_context:\n",
    "                candidates.append([tmp, ch.text, ch.start, ch.end, ch.label_])\n",
    "            else:\n",
    "                candidates.append([tmp]) \n",
    "    return candidates\n",
    "candidates = find_names(raw1_obj)\n",
    "print(len(candidates))"
   ]
  },
  {
   "cell_type": "code",
   "execution_count": 9,
   "metadata": {
    "jupyter": {
     "outputs_hidden": true
    }
   },
   "outputs": [
    {
     "data": {
      "text/plain": [
       "[(William D. Glenn, 'PERSON'),\n",
       " (Maureen S., 'PERSON'),\n",
       " (Barbara Cattolica, 'PERSON'),\n",
       " (James R. Harrison Eunice Azzani Evelyn, 'PERSON'),\n",
       " (Balancio Elizabeth C. Burrell, 'PERSON'),\n",
       " (Byron Carlota Del Portillo, 'PERSON'),\n",
       " (William D. Lang, 'PERSON'),\n",
       " (M. Protos, 'PERSON'),\n",
       " (Rankin M.D. Victor Schachter, 'PERSON'),\n",
       " (Andrew P. Small Merritt A. Smith, 'PERSON')]"
      ]
     },
     "execution_count": 9,
     "metadata": {},
     "output_type": "execute_result"
    }
   ],
   "source": [
    "[(i, i.label_) for i in raw1_obj.ents if i.label_ == \"PERSON\"][:10]\n",
    "# use spacy's NER tagger"
   ]
  },
  {
   "cell_type": "code",
   "execution_count": 10,
   "metadata": {},
   "outputs": [
    {
     "data": {
      "text/plain": [
       "3242"
      ]
     },
     "execution_count": 10,
     "metadata": {},
     "output_type": "execute_result"
    }
   ],
   "source": [
    "len(raw1_obj.ents)"
   ]
  },
  {
   "cell_type": "code",
   "execution_count": 11,
   "metadata": {},
   "outputs": [
    {
     "data": {
      "text/plain": [
       "Counter({'FAC': 12,\n",
       "         'DATE': 44,\n",
       "         'ORDINAL': 11,\n",
       "         'ORG': 205,\n",
       "         'PERSON': 2794,\n",
       "         'GPE': 95,\n",
       "         'WORK_OF_ART': 10,\n",
       "         'CARDINAL': 35,\n",
       "         'EVENT': 5,\n",
       "         'TIME': 6,\n",
       "         'LOC': 10,\n",
       "         'QUANTITY': 1,\n",
       "         'LAW': 4,\n",
       "         'NORP': 7,\n",
       "         'PRODUCT': 3})"
      ]
     },
     "execution_count": 11,
     "metadata": {},
     "output_type": "execute_result"
    }
   ],
   "source": [
    "Counter(i.label_ for i in raw1_obj.ents)"
   ]
  },
  {
   "cell_type": "code",
   "execution_count": 12,
   "metadata": {
    "jupyter": {
     "outputs_hidden": true
    },
    "scrolled": true
   },
   "outputs": [
    {
     "data": {
      "text/plain": [
       "[[[pgNbr=2], 'pgNbr=2 San Francisco AIDS Foundation BOARD', 65, 71, 'NP'],\n",
       " [[OLeary, Azzani, Balancio],\n",
       "  'OLeary Secretary Barbara Cattolica-Hudson Treasurer James R. Harrison Eunice Azzani Evelyn Balancio Elizabeth C. Burrell',\n",
       "  81,\n",
       "  98,\n",
       "  'NP'],\n",
       " [[Carlota], 'Byron Carlota Del Portillo William D. Lang', 99, 106, 'NP'],\n",
       " [[Blomstedt],\n",
       "  'James C. Anderson Lia Belli Herbert Blomstedt',\n",
       "  143,\n",
       "  150,\n",
       "  'NP'],\n",
       " [[Coblentz, Friia],\n",
       "  'The Reverend Amos C. Brown William C. Coblentz Mrs. Ralph K. Davies Belva Davis Vincent J. Friia Richard Gere Whoopi Goldberg Robert D. Haas Carole',\n",
       "  150,\n",
       "  175,\n",
       "  'NP'],\n",
       " [[pgNbr=3],\n",
       "  'pgNbr=3 San Francisco AIDS Foundation DINNER COMMITTEE',\n",
       "  196,\n",
       "  203,\n",
       "  'NP'],\n",
       " [[Krevans], 'The Honorable Art Julius R. Krevans', 203, 209, 'NP'],\n",
       " [[Baack, JoVanna, Luqu],\n",
       "  'Lawrence J. Baack JoVanna Luqu Mr.',\n",
       "  228,\n",
       "  234,\n",
       "  'NP'],\n",
       " [[Moed], 'Amy McCombs Alison Moed', 252, 256, 'NP'],\n",
       " [[Denebeim], 'The Honorable Libby Denebeim', 262, 266, 'NP']]"
      ]
     },
     "execution_count": 12,
     "metadata": {},
     "output_type": "execute_result"
    }
   ],
   "source": [
    "candidates[:10]"
   ]
  },
  {
   "cell_type": "code",
   "execution_count": 13,
   "metadata": {
    "jupyter": {
     "outputs_hidden": true
    }
   },
   "outputs": [
    {
     "data": {
      "text/plain": [
       "'LEADERSHIP RECOGNITION DINNER San Francisco AIDS Foundation Leaders in the Fight Against AIDS March 22, 1990 pgNbr=1 The San Francisco AIDS Foundation would like to thank the following sponsors for their very generous support of our third annual Leadership Recognition Dinner: AT&T Bank of America Chevron, U.S.A. Pacific Gas and Electric Company Pacific Telesis Group Chevron AT&T IB PACIFIC^ TELESIS Bank of America pgNbr=2 San Francisco AIDS Foundation BOARD OF DIRECTORS President William D. Glen'"
      ]
     },
     "execution_count": 13,
     "metadata": {},
     "output_type": "execute_result"
    }
   ],
   "source": [
    "raw_text[0][:500]"
   ]
  },
  {
   "cell_type": "code",
   "execution_count": 14,
   "metadata": {},
   "outputs": [],
   "source": [
    "name_list = []\n",
    "with open('shared_copy/names.txt') as f:\n",
    "    for line in f.readlines(): \n",
    "        name_list.append(line[:-1])"
   ]
  },
  {
   "cell_type": "code",
   "execution_count": 15,
   "metadata": {},
   "outputs": [
    {
     "data": {
      "application/vnd.jupyter.widget-view+json": {
       "model_id": "04599829c84d447a9ced85b8a14cf28a",
       "version_major": 2,
       "version_minor": 0
      },
      "text/plain": [
       "HBox(children=(IntProgress(value=1, bar_style='info', max=1), HTML(value='')))"
      ]
     },
     "metadata": {},
     "output_type": "display_data"
    },
    {
     "name": "stdout",
     "output_type": "stream",
     "text": [
      "\n",
      "1777\n"
     ]
    }
   ],
   "source": [
    "name_set = set(name_list)\n",
    "names_from_list = find_names(raw1_obj, lambda a: a.upper() in name_set)\n",
    "print(len(names_from_list))"
   ]
  },
  {
   "cell_type": "code",
   "execution_count": 16,
   "metadata": {
    "jupyter": {
     "outputs_hidden": true
    }
   },
   "outputs": [
    {
     "data": {
      "text/plain": [
       "[[[Francisco], 'San Francisco AIDS Foundation Leaders', 3, 8, 'NP'],\n",
       " [[Francisco], 'The San Francisco AIDS Foundation', 18, 23, 'NP'],\n",
       " [[America], 'America', 45, 46, 'NP'],\n",
       " [[IB],\n",
       "  'Electric Company Pacific Telesis Group Chevron ATT IB PACIFIC TELESIS Bank',\n",
       "  52,\n",
       "  63,\n",
       "  'NP'],\n",
       " [[America], 'America', 64, 65, 'NP'],\n",
       " [[Francisco], 'pgNbr=2 San Francisco AIDS Foundation BOARD', 65, 71, 'NP'],\n",
       " [[William, Glenn, Maureen],\n",
       "  'President William D. Glenn Vice President Maureen S.',\n",
       "  73,\n",
       "  81,\n",
       "  'NP'],\n",
       " [[Barbara, Hudson, James, Harrison, Eunice, Evelyn, Elizabeth],\n",
       "  'OLeary Secretary Barbara Cattolica-Hudson Treasurer James R. Harrison Eunice Azzani Evelyn Balancio Elizabeth C. Burrell',\n",
       "  81,\n",
       "  98,\n",
       "  'NP'],\n",
       " [[Byron, Carlota, William],\n",
       "  'Byron Carlota Del Portillo William D. Lang',\n",
       "  99,\n",
       "  106,\n",
       "  'NP'],\n",
       " [[Curt, Henri, Norris],\n",
       "  'M.D. Curt H. Mueller Henri E. Norris',\n",
       "  107,\n",
       "  114,\n",
       "  'NP'],\n",
       " [[George, Mike, Victor, Jude, Andrew, Merritt, Smith],\n",
       "  'George M. Protos Mike Rankin M.D. Victor Schachter Jude Sharp Andrew P. Small Merritt A. Smith',\n",
       "  114,\n",
       "  130,\n",
       "  'NP'],\n",
       " [[John, Vance], 'John W. Turnbull Vance Yoshida', 134, 139, 'NP'],\n",
       " [[James, Anderson, Lia, Herbert],\n",
       "  'James C. Anderson Lia Belli Herbert Blomstedt',\n",
       "  143,\n",
       "  150,\n",
       "  'NP'],\n",
       " [[Amos, William, Ralph, Davis, Vincent, Richard, Robert, Carole],\n",
       "  'The Reverend Amos C. Brown William C. Coblentz Mrs. Ralph K. Davies Belva Davis Vincent J. Friia Richard Gere Whoopi Goldberg Robert D. Haas Carole',\n",
       "  150,\n",
       "  175,\n",
       "  'NP'],\n",
       " [[Roger, Donald, Kennedy, Mel, Lane, Leigh, Carolyn, Pat, Christen],\n",
       "  'Hays Roger W. Heyns Donald Kennedy Mel Lane Leigh Steinberg Carolyn Wean EXECUTIVE DIRECTOR Pat Christen Leadership Recognition Dinner',\n",
       "  176,\n",
       "  195,\n",
       "  'NP'],\n",
       " [[Francisco],\n",
       "  'pgNbr=3 San Francisco AIDS Foundation DINNER COMMITTEE',\n",
       "  196,\n",
       "  203,\n",
       "  'NP'],\n",
       " [[Art, Julius], 'The Honorable Art Julius R. Krevans', 203, 209, 'NP'],\n",
       " [[Robert], 'M.D. Agnos Robert', 210, 213, 'NP'],\n",
       " [[Angela, Frank, Phillip, Lee],\n",
       "  'The Honorable Lazzara Angela Alioto Frank D. Alvarez Phillip R. Lee',\n",
       "  213,\n",
       "  224,\n",
       "  'NP'],\n",
       " [[Lawrence], 'Lawrence J. Baack JoVanna Luqu Mr.', 228, 234, 'NP']]"
      ]
     },
     "execution_count": 16,
     "metadata": {},
     "output_type": "execute_result"
    }
   ],
   "source": [
    "names_from_list[:20]"
   ]
  },
  {
   "cell_type": "markdown",
   "metadata": {},
   "source": [
    "# Addresses"
   ]
  },
  {
   "cell_type": "raw",
   "metadata": {},
   "source": [
    "These documents have a lot of addresses: \n",
    "mss95-04_001_071 pamphlet\n",
    "mss95-04-001-047 support groups page\n",
    "glbths_200046-001-010-redacted (client comments form, p128)"
   ]
  },
  {
   "cell_type": "code",
   "execution_count": 17,
   "metadata": {},
   "outputs": [
    {
     "data": {
      "text/plain": [
       "598    ucsf_mss95-04_001_071\n",
       "Name: Local Identifier , dtype: object"
      ]
     },
     "execution_count": 17,
     "metadata": {},
     "output_type": "execute_result"
    }
   ],
   "source": [
    "df['Local Identifier '][df['Local Identifier '].map(lambda a: 'mss95-04_001_071' in  a)]"
   ]
  },
  {
   "cell_type": "code",
   "execution_count": 18,
   "metadata": {},
   "outputs": [
    {
     "data": {
      "text/plain": [
       "631    ucsf_mss95-04_001_047\n",
       "Name: Local Identifier , dtype: object"
      ]
     },
     "execution_count": 18,
     "metadata": {},
     "output_type": "execute_result"
    }
   ],
   "source": [
    "df['Local Identifier '][df['Local Identifier '].map(lambda a: 'mss95-04_001_047' in  a)]"
   ]
  },
  {
   "cell_type": "code",
   "execution_count": 19,
   "metadata": {},
   "outputs": [
    {
     "data": {
      "text/plain": [
       "3    glbths_200046_001_0010\n",
       "Name: Local Identifier , dtype: object"
      ]
     },
     "execution_count": 19,
     "metadata": {},
     "output_type": "execute_result"
    }
   ],
   "source": [
    "df['Local Identifier '][df['Local Identifier '].map(lambda a: 'glbths_200046_001_0010' in  a)]"
   ]
  },
  {
   "cell_type": "code",
   "execution_count": 20,
   "metadata": {},
   "outputs": [
    {
     "name": "stdout",
     "output_type": "stream",
     "text": [
      "nchars: 377092\n",
      "npages: 232\n"
     ]
    }
   ],
   "source": [
    "print('nchars: {}'.format(len(df.loc[3,'Corrected Text'])))\n",
    "print('npages: {}'.format(len(re.findall('pgNbr',df.loc[3, 'Ocr text']))))"
   ]
  },
  {
   "cell_type": "code",
   "execution_count": 21,
   "metadata": {
    "jupyter": {
     "outputs_hidden": true
    }
   },
   "outputs": [
    {
     "name": "stdout",
     "output_type": "stream",
     "text": [
      "234386 240173\n",
      "pgNbr=127 CLIENT COMMENTS FORM When your case is over, please fill out this form and mail to: Mr. Clint Hockenberry Administrator AIDS Legal Referral Panel 1663 Mission St., Suite 400 San Francisco, CA 94103 Your Name Your Address: Your Telephone Number: Message Telephone Number: Name of your volunteer attorney: Date you first saw the attorney: MONTH YEAR Description of your legal problem: What happened in your case? Were you satisfied with your volunteer attorney? Do you have any comments on our volunteer attorney program pgNbr=128 Dan Chesir Gary Wood (Co-Chair) 769-14th Street 350 California Street San Francisco, California 94114 Suite 2290 645-3112 (W) 441-8116(H) San Francisco, CA 94104 982-9211(W) Barry A. Graynor 360 Guerrero Street #202 San Francisco, California 94103 362'-2375 (W) 864-1780(H) Frederick Hertz 7045 Chabot Road Oakland, California 94618 957-1031(W) 428-2252(H) Clink Hockenberry Administrator AIDS Legal Referral Panel 1663 Mission St., Suite 400 San Francisco, California 94103 864-8186 -KareiLj^ Langsley 1975 Diamond Blvd., Suite C210 Concord, California 94520 827-9955 (W) 282-2-418{H) Alice Philipson (Co-Chair) 1712 Vine Street Berkeley, California 94703 527-0901(W) Curtis Ponzi 2801 Turk Street, #305 San Francisco, California 94118 421-2462(W) 668-4361(H) Kathleen Quenneville Vice President and Counsel The Bank of California 400 California Street San Francisco, California 94104 765-2555 ITSDK02.BAG pgNbr=129 *Douglas Mongomery 707 Haight Street San Francisco, CA 94117 552-2223 *Greg Lawrance Hearst Building, Suite 1025 5 Third Street San Francisco, CA 94103 495-3950 *Melinda Griffith 307 Arkansas San Francisco, CA 94110 420-3300 X3553 u-;. - r: 641-6254 (h) *John McNamara San Francisco, CA 434-0610 *Tom Gee .The Hearst Building, Suite 1100 Third and Market San Francisco, CA 94103 495-3950 (o) *Chris Redburn Employment Law Center 1663 Mission, Suite 400 San Francisco, CA 94103 864-8848 *Bob Goodman Feldman, Waldman & Kline 144 Carl Street, #5 San Francisco, CA 94117 981-1300 (o) 731-3734 (h) *Steven Vettel Feldman, Waldman & Kline 235 Montgomery Street #2700 San Francisco, CA 94104 981-1300 (o) *Kenneth Tishgart 44 Montgomery Street, 5th Floor San Francisco, CA 94104 931-3400 pgNbr=130 *Barbara Barrett 850 Montgomery Street Suite 101 San Francisco, CA 94133 433-1457 *Margot Hagaman 333 Hayes Street, Suite 109 San Francisco, CA 94102 863-4443 *Judy Baer 3929 24th Street San Francisco, CA 94114 821-6700 *Paul Thurston World Trade Center, Suite 280 San Francisco, CA 94111 398-6767 *Mike Hall 25 Van Ness Penthouse San Francisco, CA 94102 OCd-u^O-G-O *Carl Wolf Hammill & Wolf 414 Gough Street, Suite 4 San Francisco, CA 94102 621-3988 *Vivian V. Hammill Hammill & Wolf 414 Gough Street, Suite 4 San Francisco, CA 94102 621-3988 *Ron Albers San Francisco Public Defender 850 Bryant San Francisco, CA 94103 553-1671 553-9329 (direct) *Gordon Armstrong P.O. Box 421671 San Francisco, CA 94142 553-1671 pgNbr=131 EAST BAY ; *Anson Reinhart f' ^ ■ Oakland, CA ; 763-1000 fc— r*Virginia Palmer r7 , ' - ' ■-l '. • • j 436 14th Street ■ • I Oakland, CA 946,12 i 763-5611 (o) r*Bob Peacock j..- I 432 Estudillo, #18 j ' 1 San Leandro, CA 94579 I 483-3400 r*Liz Hendrickscn - -j ! P.O. Box 3173 „C... i -1- ' ■ iOakland, CA 94609 I 839-3003 u. Judith MacQuarrie 5971 Margardo Drive Oakland, CA 94618 398-1551 (o) 654-2089 (h) Dan Healy 1930 Sonoma Blvd. Vallejo, CA 94590 707-644-7435 707-643-6508 i'^*Charles Bendes ; 1 Wald, Knoll, Freedman et al. ' ' 554 Grand Avenue Oakland, CA 94610 444-0560 '^*Marian Chapman Wald, Knoll, Freedman et al. ■ , 554 Grand Avenue Oakland, CA 94610 _ 444-0560 ♦Alice Philipson 1712 Vine Street Berkeley, CA 94703 527-0901 ^ 0 — pgNbr=132 *Mark Senick Stokes, Clayton, McKenzie & Senick 333 Franklin Street San Francisco, OA 94102 863-2312 *Carole Collum 220 Montgomery Street, Suite 409 San Francisco, CA 94104 626-5444 (o) *Gabe Gesmer 731 Market Street, Suite 200 San Francisco, CA 94103 777-3500 (o) *Meriel Lindley Law Offices of Jerry Berg 240 Stockton Street San Francisco, CA 94110 391-8200 (o) *Jerry Berg Law Offices of Jerry Berg 240 Stockton Street San Francisco, CA 94110 391-8200 (o) *Tom Olszewski Olszewski & ^intilian 155 Montgomery Street, Suite 601 San Francisco, CA 94104 788-3790 (o) *David L. Matt 582 Market Street, Suite 914 San Francisco, CA 94104 781-3344 *Margaret Ryan 433 Turk Street San Francisco, CA 94102 775-3900 *Elise Clowes Heller, Ehrman 44 Montgomery Street, 33rd Floor San Francisco, CA 94104 772-6654 (o) *Kevin James Heller, Ehrman 44 Montgomery Street, 33rd Floor San Francisco, CA 94104 772-6160 (o) pgNbr=133 Barry A. Graynor, Esq. One Sansoine Street, Suite 1400 San Francisco, CA 94104 June 18, 1987 To: Members of the BALIF/AIDS Panel Management Committee Dear Member: Attached please find \"unofficial\" minutes of a meeting held on June 4. In order to make them official, please sign and return to me the enclosed \"Unanimous Written Consent.\" At the June meeting one of the issues discussed was to remind Panel attorneys about our \"tithing\" policy. Attached is a list of these attorneys. Please call the attorneys whose names appear beside your name. Please note that many of these attor¬ neys have not made a contribution because they have not had any fee generating clients. Thus, we ask that you simply \"remind\" people of the policy and refer any questions to Clint. Please also report the results of your phone calls to Clint. Finally, please mark your calendar for the next meeting: July 8, Wednesday at 12:00 noon, at Kathleen's office (Bank of Califor¬ nia, 400 California Street, 12th Floor, San Francisco). If you will be unable to attend, please call either me at 362-2375 or Gary Wood at 982-9211. Sincerely Barry A. Graynor bal.3G/BAG:kb \n"
     ]
    }
   ],
   "source": [
    "raw = df.loc[3,'Ocr text']\n",
    "start = raw.find('pgNbr=127')\n",
    "end = raw.find('pgNbr=134')\n",
    "print(start, end)\n",
    "print(raw[start:end])\n",
    "test1 = raw[start:end]"
   ]
  },
  {
   "cell_type": "code",
   "execution_count": 22,
   "metadata": {},
   "outputs": [
    {
     "name": "stdout",
     "output_type": "stream",
     "text": [
      "231198 235724\n",
      "client comments form when your case is over, please fill out this form and mail to: mr. clint hock en berry administrator aids legal referral panel 1663 mission st., suite 400 san francisco, ca 94103 your name your address: your telephone number: message telephone number: name of your volunteer attorney: date you first saw the attorney: month year description of your legal problem: what happened in your case? were you satisfied with your volunteer attorney? do you have any comments on our volunteer attorney program dan che sir gary wood co hair 76914 th street 350 california street san francisco, california 94114 suite 22906453112 w 4418116 h san francisco, ca 941049829211 w barry a. gray nor 360 guerre ro street # 202 san francisco, california 941033622375 w 8641780 h frederick hertz 7045 chabot road oakland, california 94618 9571031 w 4282252 h c link hock en berry administrator aids legal referral panel 1663 mission st., suite 400 san francisco, california 941038648186 ka ei j langley 1975 diamond bled., suite c 210 concord, california 945208279955 w 2822418 h alice philips on co hair 1712 vine street berkeley, california 947035270901 w curtis pon i 2801 turk street, # 305 san francisco, california 941184212462 w 6684361 h kathleen que neville vice president and counsel the bank of california 400 california street san francisco, california 941047652555 it sd k 02. bag douglas montgomery 707 haight street san francisco, ca 941175522223 greg law rance hearst building, suite 10255 third street san francisco, ca 94103 4953950 melinda griffith 307 arkansas san francisco, ca 941104203300 x 3553 u;. r: 6416254 h john man mara san francisco, ca 4340610 tom gee. the hearst building, suite 1100 third and market san francisco, ca 94103 4953950 o chris red burn employment law center 1663 mission, suite 400 san francisco, ca 94103 8648848 bob goodman feld man, wald man line 144 carl street, # 5 san francisco, ca 94117 9811300 o 7313734 h steven vet tel feld man, wald man line 235 montgomery street # 2700 san francisco, ca 94104 9811300 o kenneth tish art 44 montgomery street,5 th floor san francisco, ca 94104 9313400 barbara barrett 850 montgomery street suite 101 san francisco, ca 941334331457 margot haga man 333 hayes street, suite 109 san francisco, ca 94102 8634443 judy baer 392924 th street san francisco, ca 941148216700 paul thurston world trade center, suite 280 san francisco, ca 94111 3986767 mike hall 25 van ness penthouse san francisco, ca 94102 oc du go carl wolf ham ill wolf 414 gough street, suite 4 san francisco, ca 94102 6213988 vivian v. ham ill ham ill wolf 414 gough street, suite 4 san francisco, ca 94102 6213988 don albert san francisco public defender 850 bryant san francisco, ca 9410355316715539329 direct gordon armstrong p. o. box 421671 san francisco, ca 941425531671 east bay; anson rein hart f oakland, ca; 7631000 ff r virginia palmer r 7, l. j 43614 th street i oakland, ca 946,12 i 7635611 o r bob peacock j.. i 432 est di lo, # 18 j 1 san leandro, ca 94579 i 4833400 r lie hendricks en j! p. o. box 3173 c. .. i 1 i oakland, ca 94609 i 8393003 u. judith macquarie 5971 marya do drive oakland, ca 94618 3981551 o 6542089 h dan healy 1930 sonoma bled. vallejo, ca 9459070764474357076436508 i charles ben des; 1 wald, knoll, freedman et al. 554 grand avenue oakland, ca 946104440560 marian chapman wald, knoll, freedman et al.,554 grand avenue oakland, ca 94610 4440560 alice philips on 1712 vine street berkeley, ca 9470352709010 mark se nick stokes, clayton, mckenzie se nick 333 franklin street san francisco, o a 94102 8632312 car le coll um 220 montgomery street, suite 409 san francisco, ca 94104 6265444 o gabe ge men 731 market street, suite 200 san francisco, ca 94103 7773500 o meri el lindley law offices of jerry berg 240 stockton street san francisco, ca 941103918200 o jerry berg law offices of jerry berg 240 stockton street san francisco, ca 941103918200 o tom ol ze ski ol ze ski intil an 155 montgomery street, suite 601 san francisco, ca 94104 7883790 o david l. matt 582 market street, suite 914 san francisco, ca 941047813344 margaret ryan 433 turk street san francisco, ca 94102 7753900 elise clowes heller, eh man 44 montgomery street,33 rd floor san francisco, ca 94104 7726654 o kevin james heller, eh man 44 montgomery street,33 rd floor san francisco, ca 941047726160 o barry a. gray nor, esq. one san line street, suite 1400 san francisco, ca 94104 june 18,1987 to: members of the bali aids panel management committee dear member : \n"
     ]
    }
   ],
   "source": [
    "corr = df.loc[3,'Corrected Text']\n",
    "start = corr.find('client comments form')\n",
    "end = corr.find('attached please find unofficial minutes of a meeting')\n",
    "print(start, end)\n",
    "print(corr[start:end])"
   ]
  },
  {
   "cell_type": "code",
   "execution_count": 23,
   "metadata": {},
   "outputs": [
    {
     "data": {
      "text/plain": [
       "Unnamed: 0                                                                        3\n",
       "Collection Title                  AIDS Legal Referral Panel Records, 2000-46, Bo...\n",
       "Title                                                                Correspondence\n",
       "Local Identifier                                             glbths_200046_001_0010\n",
       "Type                                                                           text\n",
       "Date                                                                      1985-1987\n",
       "Date Type                                                                   created\n",
       "Publication/Origination Info      Digital resource published by the Regents of t...\n",
       "Creator 1 Name                                            AIDS Legal Referral Panel\n",
       "Creator 1 NameType                                                         corpname\n",
       "Creator 1 Source                                                                naf\n",
       "Creator 2 Name                                                                     \n",
       "Creator 2 NameType                                                                 \n",
       "Creator 2 Source                                                                   \n",
       "Creator 3 Name                                                                     \n",
       "Creator 3 NameType                                                                 \n",
       "Creator 3 Source                                                                   \n",
       "Creator 4 Name                                                                     \n",
       "Creator 4 NameType                                                                 \n",
       "Creator 4 Source                                                                   \n",
       "Format/Physical Description                                                        \n",
       "Language                                                                    English\n",
       "Language Code                                                                   eng\n",
       "Copyright Status                                                        copyrighted\n",
       "Copyright Statement               Transmission or reproduction of materials prot...\n",
       "Source                            AIDS Legal Referral Panel Records, 2000-46, Bo...\n",
       "Subject (Name) 1 Name                                                              \n",
       "Subject (Name) 1 Name Type                                                         \n",
       "Subject (Name) 1 Source                                                            \n",
       "Subject (Name) 2 Name                                                              \n",
       "Subject (Name) 2 Name Type                                                         \n",
       "Subject (Name) 2 Source                                                            \n",
       "Subject (Name) 3 Name                                                              \n",
       "Subject (Name) 3 Name Type                                                         \n",
       "Subject (Name) 3 Source                                                            \n",
       "Subject (Topic) 1 Heading                                                      AIDS\n",
       "Subject (Topic) 1 Heading Type                                                topic\n",
       "Subject (Topic) 1 Source                                                      local\n",
       "Subject (Topic) 2 Heading                                    San Francisco (Calif.)\n",
       "Subject (Topic) 2 Heading Type                                                topic\n",
       "Subject (Topic) 2 Source                                                       lcsh\n",
       "Subject (Topic) 3 Heading                                        Pro Bono Advocates\n",
       "Subject (Topic) 3 Heading Type                                                topic\n",
       "Subject (Topic) 3 Source                                                       lcsh\n",
       "Subject (Topic) 4 Heading                                                 Attorneys\n",
       "Subject (Topic) 4 Heading Type                                                topic\n",
       "Subject (Topic) 4 Source                                                       lcsh\n",
       "Subject (Topic) 5 Heading                                                          \n",
       "Subject (Topic) 5 Heading Type                                                     \n",
       "Subject (Topic) 5 Source                                                           \n",
       "Subject (Topic) 6 Heading                                                          \n",
       "Subject (Topic) 6 Heading Type                                                     \n",
       "Subject (Topic) 6 Source                                                           \n",
       "Ocr text                          ^ GREAT REPUBLIC IIMSURAIMCE COMPANY i 470 SOU...\n",
       "Corrected Text                     great republic iimsuraimce company i 470 sout...\n",
       "Name: 3, dtype: object"
      ]
     },
     "execution_count": 23,
     "metadata": {},
     "output_type": "execute_result"
    }
   ],
   "source": [
    "df.loc[3,:]"
   ]
  },
  {
   "cell_type": "code",
   "execution_count": 50,
   "metadata": {},
   "outputs": [
    {
     "name": "stdout",
     "output_type": "stream",
     "text": [
      "CPU times: user 23.6 s, sys: 3.67 s, total: 27.3 s\n",
      "Wall time: 27.3 s\n"
     ]
    }
   ],
   "source": [
    "%%time\n",
    "raw_obj = nlp(raw)\n",
    "corr_obj = nlp(df.loc[3,'Corrected Text'])"
   ]
  },
  {
   "cell_type": "code",
   "execution_count": 51,
   "metadata": {},
   "outputs": [
    {
     "name": "stdout",
     "output_type": "stream",
     "text": [
      "CPU times: user 55.2 s, sys: 1min 12s, total: 2min 7s\n",
      "Wall time: 2min 55s\n"
     ]
    }
   ],
   "source": [
    "%%time\n",
    "# pickling entire Spacy NLP objects can take a long time (>2mins)\n",
    "# this cell is only meant to be a checkpoint, subsequent cells do not need it to be run.\n",
    "import pickle\n",
    "\n",
    "with open(\"aids-legal-referral-panel-addresses_raw.pickle\",'wb') as f:\n",
    "    pickle.dump(raw_obj, f)\n",
    "with open(\"aids-legal-referral-panel-addresses_corrected.pickle\", 'wb') as f:\n",
    "    pickle.dump(corr_obj, f)\n",
    "    \n",
    "# objects can be re-instantiated with pickle.load()"
   ]
  },
  {
   "cell_type": "code",
   "execution_count": 52,
   "metadata": {},
   "outputs": [],
   "source": [
    "raw = df.loc[3,'Ocr text']\n",
    "start = raw.find('pgNbr=127')\n",
    "end = raw.find('pgNbr=134')\n",
    "# print(start, end)\n",
    "# print(raw[start:end])\n",
    "test1 = raw[start:end]\n",
    "\n",
    "anchor_on_zips = '(?P<streetAddress>(?:#?\\d+|'\\\n",
    "'(?:one|two|three|four|five|six|seven|eight|nine|'\\\n",
    "'ten|eleven|twelve|thirteen|fourteen|fifteen|sixteen|'\\\n",
    "'seventeen|eighteen|nineteen))(?:\\s+#?[\\w\\d]+\\.?\\,?){1,10})'\\\n",
    "'\\s(?P<state>ca|california)?\\s(?P<zipCode>\\d{5})'\n",
    "\n",
    "# anchor_on_city_name # todo"
   ]
  },
  {
   "cell_type": "code",
   "execution_count": 53,
   "metadata": {},
   "outputs": [
    {
     "data": {
      "text/plain": [
       "[('1663 Mission St., Suite 400 San Francisco,', 'CA', '94103'),\n",
       " ('350 California Street San Francisco,', 'California', '94114'),\n",
       " ('360 Guerrero Street #202 San Francisco,', 'California', '94103'),\n",
       " ('7045 Chabot Road Oakland,', 'California', '94618'),\n",
       " ('1663 Mission St., Suite 400 San Francisco,', 'California', '94103'),\n",
       " ('1975 Diamond Blvd., Suite C210 Concord,', 'California', '94520'),\n",
       " ('1712 Vine Street Berkeley,', 'California', '94703'),\n",
       " ('2801 Turk Street, #305 San Francisco,', 'California', '94118'),\n",
       " ('400 California Street San Francisco,', 'California', '94104'),\n",
       " ('707 Haight Street San Francisco,', 'CA', '94117')]"
      ]
     },
     "execution_count": 53,
     "metadata": {},
     "output_type": "execute_result"
    }
   ],
   "source": [
    "test_regex = anchor_on_zips\n",
    "re.findall(test_regex, remove_bad_chars(test1), re.IGNORECASE)[:10]"
   ]
  },
  {
   "cell_type": "code",
   "execution_count": 54,
   "metadata": {},
   "outputs": [
    {
     "name": "stdout",
     "output_type": "stream",
     "text": [
      "pgNbr=127 CLIENT COMMENTS FORM When your case is over, please fill out this form and mail to: Mr. Clint Hockenberry Administrator AIDS Legal Referral Panel 1663 Mission St., Suite 400 San Francisco, CA 94103 Your Name Your Address: Your Telephone Number: Message Telephone Number: Name of your volunteer attorney: Date you first saw the attorney: MONTH YEAR Description of your legal problem: What happened in your case? Were you satisfied with your volunteer attorney? Do you have any comments on our volunteer attorney program pgNbr=128 Dan Chesir Gary Wood (Co-Chair) 769-14th Street 350 California Street San Francisco, California 94114 Suite 2290 645-3112 (W) 441-8116(H) San Francisco, CA 94104 982-9211(W) Barry A. Graynor 360 Guerrero Street #202 San Francisco, California 94103 362'-2375 (W) 864-1780(H) Frederick Hertz 7045 Chabot Road Oakland, California 94618 957-1031(W) 428-2252(H) Clink Hockenberry Administrator AIDS Legal Referral Panel 1663 Mission St., Suite 400 San Francisco, Cal\n"
     ]
    },
    {
     "data": {
      "text/plain": [
       "'pgNbr=127 CLIENT COMMENTS FORM When your case is over, please fill out this form and mail to Mr. Clint Hockenberry Administrator AIDS Legal Referral Panel 1663 Mission St., Suite 400 San Francisco, CA 94103 Your Name Your Address Your Telephone Number Message Telephone Number Name of your volunteer attorney Date you first saw the attorney MONTH YEAR Description of your legal problem What happened in your case Were you satisfied with your volunteer attorney Do you have any comments on our volunteer attorney program pgNbr=128 Dan Chesir Gary Wood (Co-Chair) 769-14th Street 350 California Street San Francisco, California 94114 Suite 2290 645-3112 (W) 441-8116(H) San Francisco, CA 94104 982-9211(W) Barry A. Graynor 360 Guerrero Street #202 San Francisco, California 94103 362-2375 (W) 864-1780(H) Frederick Hertz 7045 Chabot Road Oakland, California 94618 957-1031(W) 428-2252(H) Clink Hockenberry Administrator AIDS Legal Referral Panel 1663 Mission St., Suite 400 San Francisco, Cal'"
      ]
     },
     "execution_count": 54,
     "metadata": {},
     "output_type": "execute_result"
    }
   ],
   "source": [
    "print(test1[:1000])\n",
    "remove_bad_chars(test1[:1000])"
   ]
  },
  {
   "cell_type": "markdown",
   "metadata": {},
   "source": [
    "# Find all addresses in the document"
   ]
  },
  {
   "cell_type": "code",
   "execution_count": 55,
   "metadata": {
    "jupyter": {
     "outputs_hidden": true
    }
   },
   "outputs": [
    {
     "name": "stdout",
     "output_type": "stream",
     "text": [
      "140\n"
     ]
    },
    {
     "data": {
      "text/plain": [
       "[('1986 1663 Mission Street Suite 400 San Francisco,', 'CA', '94103'),\n",
       " ('8186 Skaggs Foundation 1330 Broadway Oakland,', 'CA', '94512'),\n",
       " ('1663 Mission Street August 6, 1986 Suite 400 San Francisco,',\n",
       "  'CA',\n",
       "  '94103'),\n",
       " ('8186 Public Affairs Coordinator 890 Hayes Street San Francisco,',\n",
       "  'California',\n",
       "  '94117'),\n",
       " ('1986 1663 Mission Street Suite 400 Dear Attorney San Francisco,',\n",
       "  'CA',\n",
       "  '94103'),\n",
       " ('1663 Mission Street NEW ATTORNEY FORM Suite 400 San Francisco,',\n",
       "  'CA',\n",
       "  '94103'),\n",
       " ('400 CALENDAR OF ATTORNEY TRAINING SESSIONS San Francisco,', 'CA', '94103'),\n",
       " ('1663 Misswn Street Suite 400 REGISTRATION San Francisco,', 'CA', '94103'),\n",
       " ('220 Bush St., 21sf Floor, Mills Tower, Son Francisco,', 'CA', '94104'),\n",
       " ('400 The Management Committee of the San BALIFNEFIR AIDS Francisco,',\n",
       "  'CA',\n",
       "  '94103')]"
      ]
     },
     "execution_count": 55,
     "metadata": {},
     "output_type": "execute_result"
    }
   ],
   "source": [
    "addr = re.findall(test_regex, remove_bad_chars(raw), re.IGNORECASE)\n",
    "print(len(addr))\n",
    "addr[:10]"
   ]
  },
  {
   "cell_type": "markdown",
   "metadata": {},
   "source": [
    "# Find in all docs"
   ]
  },
  {
   "cell_type": "code",
   "execution_count": 57,
   "metadata": {},
   "outputs": [
    {
     "data": {
      "application/vnd.jupyter.widget-view+json": {
       "model_id": "471d6953f1e6490bab5167dcf8aea64d",
       "version_major": 2,
       "version_minor": 0
      },
      "text/plain": [
       "HBox(children=(IntProgress(value=0, max=735), HTML(value='')))"
      ]
     },
     "metadata": {},
     "output_type": "display_data"
    },
    {
     "name": "stdout",
     "output_type": "stream",
     "text": [
      "\n"
     ]
    }
   ],
   "source": [
    "addr = []\n",
    "\n",
    "for i in tqdm(df.loc[:,'Ocr text']):\n",
    "    addr.extend(re.findall(test_regex, remove_bad_chars(i), re.IGNORECASE))\n"
   ]
  },
  {
   "cell_type": "code",
   "execution_count": 60,
   "metadata": {},
   "outputs": [
    {
     "name": "stdout",
     "output_type": "stream",
     "text": [
      "3382\n",
      "[('205 SACRAMENTO.', 'CALIFORNIA', '95814'), ('3543 18TH STREET SUITE 11 SAN FRANCISCO,', 'CA', '94110'), ('4996 SF,', 'CA', '94103'), ('3785 SF,', 'CA', '94143'), ('4060 Suite 3150 f SF,', 'CA', '94103'), ('3999 SF,', 'CA', '94117'), ('1135 SF,', 'CA', '94102'), ('2147 SF,', 'CA', '94110'), ('4964 SF,', 'CA', '94102'), ('5472 SF,', 'CA', '94104'), ('1180 SF,', 'CA', '94110'), ('1180 SF,', 'CA', '94110'), ('3543 18th Street, Suite 11 San Francisco,', 'CA', '94110'), ('3543 Eighteenth Street, Suite Eleven San Francisco', 'CA', '94110'), ('3543 18tb Street, Suite 11. San Francisco,', 'CA', '94110'), ('25 Van Ness Avenue, Room 130 San Francisco,', 'CA', '94102'), ('25 Van Ness Avenue, Room 130 San Francisco,', 'CA', '94102'), ('199 Moulton Street SF,', 'CA', '94123'), ('3543 18TH STREET, #11, SAN FRANCISCO,', 'CA', '94110'), ('120 584 Castro San Street, #321 Francisco,', 'CA', '94103'), ('474 Valencia Street, Suite 120 San Francisco,', 'CA', '94103'), ('13 San Francisco,', 'CA', '94103'), ('706 Mission Street, 5th Floor, San Francisco,', 'CA', '94103'), ('1 Womens AIDS Network co 584 Castro Suite 321 San Francisco,', 'CA', '94114'), ('116 New Montgomery Street. Suite 742 San Francisco,', 'CA', '94105'), ('8 4 castro street, suite #321 san francisco,', 'ca', '94114'), ('116 NEW MONTGOMERY STREET. SUITE 742 SAN FRANCISCO.', 'CA', '94105'), ('116 New Montgomery Street, Suite 742 San Francisco,', 'CA', '94105'), ('116 New Montgomery Street, Suite 724, San Francisco,', 'CA', '94105'), ('193920 San Francisco,', 'CA', '94119'), ('199 Moulton Street, San Francisco.', 'CA', '94123'), ('199 Moulton Street  San Francisco,', 'CA', '94132'), ('656 Key Route Blvd. 470 Castro St., Ste. 202 Albany,', 'CA', '94706'), ('481 Pointe Pacific Dr., #8 UCSF, School of Nursing Daly City,', 'CA', '94104'), ('545 Mission St., 5th Floor Windsor,', 'CA', '95492'), ('706 Mission Street 706 Mission Street, 5th Roor San Francisco,', 'CA', '94103'), ('10 UNITED NATIONS PLAZA SAN FRANCISCO,', 'CALIFORNIA', '94102'), ('135 061396 1322 2104 HAYES', '', '86347'), ('545 MISSION STREET, FUTH FLOOR, SAN FRANCISCO,', 'CA', '94105'), ('127 Collingwood Street, San Francisco,', 'CA', '94114'), ('420 San Francisco,', 'CA', '94103'), ('7547 SAN AIDS OFFICE FRANCISCO,', 'CA', '94102'), ('1129 San Francisco. AIDS Network', 'CA', '94104'), ('10 United Nations Plaza, Suite 600, San Francisco,', 'CA', '94102'), ('1145 MuKel Uel. Suite 1100 Sao Frtintmo,', 'CA', '94103'), ('584 Castro St., Suite 321  San Francisco,', 'CA', '94114'), ('310 Townsend Street, Suite 310, San Francisco,', 'CA', '94107'), ('5780 AIDS Memorial Quilt 310 Townsend Street, Suite 310, San Francisco,', 'CA', '94107'), ('310 Townstnd Strett, Suits 310, Ssn Frgncisco,', 'CA', '94107'), ('36 First Street San Francisco,', 'CA', '94105')]\n"
     ]
    }
   ],
   "source": [
    "print(len(addr))\n",
    "print(addr[:50])"
   ]
  },
  {
   "cell_type": "code",
   "execution_count": 61,
   "metadata": {},
   "outputs": [
    {
     "data": {
      "application/vnd.jupyter.widget-view+json": {
       "model_id": "d5cb4e199acb48ae812f0d8139a71795",
       "version_major": 2,
       "version_minor": 0
      },
      "text/plain": [
       "HBox(children=(IntProgress(value=0, max=735), HTML(value='')))"
      ]
     },
     "metadata": {},
     "output_type": "display_data"
    },
    {
     "name": "stdout",
     "output_type": "stream",
     "text": [
      "\n",
      "5755\n",
      "[('205 sacramento.', 'california', '95814'), ('354318 th street suite 11 san francisco,', 'ca', '94110'), ('101 h 8644996 ff,', 'ca', '94103'), ('5106586930 carol dawson 529 holly park circle h 2822670 ff,', 'ca', '94110'), ('1312 w 4763785 ff,', 'ca', '94143'), ('5979213 suite 600 email cynthia gomez quick mail. use. edu ff,', 'ca', '94105'), ('20513 th street w 8614060 suite 3150 f ff,', 'ca', '94103'), ('1062 megan shif let page street h 5523999 ff,', 'ca', '94117'), ('785 fulton st., apt a h 6261135 ff,', 'ca', '94102'), ('4878662 street survival pr j. f', '', '48786'), ('515 cor land ave. h 6216364 w 2062147 ff,', 'ca', '94110'), ('1748 market st. h 8644626 w 8614964 ff,', 'ca', '94102'), ('912 h 6215620 w 2915472 ff,', 'ca', '94104'), ('11 w 5751180 ff,', 'ca', '94110'), ('11 w 5751180 ff,', 'ca', '94110'), ('354318 th street, suite 11 san francisco,', 'ca', '94110'), ('3543 eighteenth street, suite eleven san francisco', 'ca', '94110'), ('354318 tm street, suite 11. san francisco,', 'ca', '94110'), ('25 van ness avenue, room 130 san francisco,', 'ca', '94102'), ('25 van ness avenue, room 130 san francisco,', 'ca', '94102'), ('199 moulton street ff,', 'ca', '94123'), ('321 francisco, ca 941034154317760 s. f.,', 'ca', '94114'), ('474 valencia street, suite 120 san francisco,', 'ca', '94103'), ('5 th pi fax number friday, september 13 san francisco,', 'ca', '94103'), ('5 th floor, san francisco,', 'ca', '94103')]\n"
     ]
    }
   ],
   "source": [
    "corrected_addrs = []\n",
    "for j in tqdm(df.loc[:, 'Corrected Text']):\n",
    "    corrected_addrs.extend(re.findall(test_regex, remove_bad_chars(j), re.IGNORECASE))\n",
    "print(len(corrected_addrs))\n",
    "print(corrected_addrs[:25])"
   ]
  },
  {
   "cell_type": "code",
   "execution_count": 62,
   "metadata": {},
   "outputs": [],
   "source": [
    "with open('addresses_from_corrected.txt', 'w') as f:\n",
    "    for i in corrected_addrs:\n",
    "        f.write('|'.join(i) + '\\n')"
   ]
  },
  {
   "cell_type": "code",
   "execution_count": 63,
   "metadata": {},
   "outputs": [],
   "source": [
    "with open('addresses_from_raw.txt', 'w') as f:\n",
    "    for i in addr:\n",
    "        f.write('|'.join(i) + '\\n')"
   ]
  },
  {
   "cell_type": "code",
   "execution_count": null,
   "metadata": {},
   "outputs": [],
   "source": []
  }
 ],
 "metadata": {
  "kernelspec": {
   "display_name": "Python 3",
   "language": "python",
   "name": "python3"
  },
  "language_info": {
   "codemirror_mode": {
    "name": "ipython",
    "version": 3
   },
   "file_extension": ".py",
   "mimetype": "text/x-python",
   "name": "python",
   "nbconvert_exporter": "python",
   "pygments_lexer": "ipython3",
   "version": "3.7.3"
  }
 },
 "nbformat": 4,
 "nbformat_minor": 4
}
