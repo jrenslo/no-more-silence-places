{
 "cells": [
  {
   "cell_type": "code",
   "execution_count": 2,
   "metadata": {},
   "outputs": [],
   "source": [
    "import spacy\n",
    "nlp = spacy.load('en_core_web_md')"
   ]
  },
  {
   "cell_type": "code",
   "execution_count": 3,
   "metadata": {},
   "outputs": [
    {
     "name": "stdout",
     "output_type": "stream",
     "text": [
      "[Errno 2] No such file or directory: '/home/jovyan/PycharmProjects/nlp-colab/no_more_silence/'\n",
      "/home/jovyan/work/shared_copy\n"
     ]
    }
   ],
   "source": [
    "cd ~/PycharmProjects/nlp-colab/no_more_silence/"
   ]
  },
  {
   "cell_type": "code",
   "execution_count": 4,
   "metadata": {},
   "outputs": [
    {
     "data": {
      "text/plain": [
       "'/home/jovyan/work/shared_copy'"
      ]
     },
     "execution_count": 4,
     "metadata": {},
     "output_type": "execute_result"
    }
   ],
   "source": [
    "pwd"
   ]
  },
  {
   "cell_type": "markdown",
   "metadata": {},
   "source": [
    "## Open and describe corpus"
   ]
  },
  {
   "cell_type": "code",
   "execution_count": 5,
   "metadata": {},
   "outputs": [],
   "source": [
    "import pandas as pd\n",
    "# data = pd.read_csv('data/FullDataset/NoMoreSilence_ProjectData.csv',sep=\"|\")\n",
    "data=pd.read_csv('../local_data/NoMoreSilence_ProjectDataV2.tsv',sep='\\t')"
   ]
  },
  {
   "cell_type": "code",
   "execution_count": 6,
   "metadata": {},
   "outputs": [
    {
     "data": {
      "text/plain": [
       "(735, 55)"
      ]
     },
     "execution_count": 6,
     "metadata": {},
     "output_type": "execute_result"
    }
   ],
   "source": [
    "data.shape"
   ]
  },
  {
   "cell_type": "code",
   "execution_count": 7,
   "metadata": {},
   "outputs": [
    {
     "data": {
      "text/plain": [
       "Index(['Unnamed: 0', 'Collection Title', 'Title', 'Local Identifier ', 'Type',\n",
       "       'Date ', 'Date Type', 'Publication/Origination Info', 'Creator 1 Name',\n",
       "       'Creator 1 NameType', 'Creator 1 Source', 'Creator 2 Name',\n",
       "       'Creator 2 NameType', 'Creator 2 Source', 'Creator 3 Name',\n",
       "       'Creator 3 NameType', 'Creator 3 Source', 'Creator 4 Name',\n",
       "       'Creator 4 NameType', 'Creator 4 Source', 'Format/Physical Description',\n",
       "       'Language ', 'Language Code', 'Copyright Status', 'Copyright Statement',\n",
       "       'Source', 'Subject (Name) 1 Name', 'Subject (Name) 1 Name Type',\n",
       "       'Subject (Name) 1 Source', 'Subject (Name) 2 Name',\n",
       "       'Subject (Name) 2 Name Type', 'Subject (Name) 2 Source',\n",
       "       'Subject (Name) 3 Name', 'Subject (Name) 3 Name Type',\n",
       "       'Subject (Name) 3 Source', 'Subject (Topic) 1 Heading',\n",
       "       'Subject (Topic) 1 Heading Type', 'Subject (Topic) 1 Source',\n",
       "       'Subject (Topic) 2 Heading', 'Subject (Topic) 2 Heading Type',\n",
       "       'Subject (Topic) 2 Source', 'Subject (Topic) 3 Heading',\n",
       "       'Subject (Topic) 3 Heading Type', 'Subject (Topic) 3 Source',\n",
       "       'Subject (Topic) 4 Heading', 'Subject (Topic) 4 Heading Type',\n",
       "       'Subject (Topic) 4 Source', 'Subject (Topic) 5 Heading',\n",
       "       'Subject (Topic) 5 Heading Type', 'Subject (Topic) 5 Source',\n",
       "       'Subject (Topic) 6 Heading', 'Subject (Topic) 6 Heading Type',\n",
       "       'Subject (Topic) 6 Source', 'Ocr text', 'Corrected Text'],\n",
       "      dtype='object')"
      ]
     },
     "execution_count": 7,
     "metadata": {},
     "output_type": "execute_result"
    }
   ],
   "source": [
    "data.columns"
   ]
  },
  {
   "cell_type": "code",
   "execution_count": 8,
   "metadata": {},
   "outputs": [
    {
     "data": {
      "text/plain": [
       "count     735\n",
       "unique    637\n",
       "top          \n",
       "freq       99\n",
       "Name: Ocr text, dtype: object"
      ]
     },
     "execution_count": 8,
     "metadata": {},
     "output_type": "execute_result"
    }
   ],
   "source": [
    "data['Ocr text'].describe()"
   ]
  },
  {
   "cell_type": "code",
   "execution_count": 9,
   "metadata": {},
   "outputs": [
    {
     "name": "stdout",
     "output_type": "stream",
     "text": [
      "0\n",
      "99\n"
     ]
    }
   ],
   "source": [
    "print(data['Ocr text'].isna().sum())\n",
    "print((data[\"Ocr text\"].map(str.isspace)).sum())"
   ]
  },
  {
   "cell_type": "code",
   "execution_count": 10,
   "metadata": {},
   "outputs": [
    {
     "data": {
      "text/html": [
       "<div>\n",
       "<style scoped>\n",
       "    .dataframe tbody tr th:only-of-type {\n",
       "        vertical-align: middle;\n",
       "    }\n",
       "\n",
       "    .dataframe tbody tr th {\n",
       "        vertical-align: top;\n",
       "    }\n",
       "\n",
       "    .dataframe thead th {\n",
       "        text-align: right;\n",
       "    }\n",
       "</style>\n",
       "<table border=\"1\" class=\"dataframe\">\n",
       "  <thead>\n",
       "    <tr style=\"text-align: right;\">\n",
       "      <th></th>\n",
       "      <th>Unnamed: 0</th>\n",
       "      <th>Collection Title</th>\n",
       "      <th>Title</th>\n",
       "      <th>Local Identifier</th>\n",
       "      <th>Type</th>\n",
       "      <th>Date</th>\n",
       "      <th>Date Type</th>\n",
       "      <th>Publication/Origination Info</th>\n",
       "      <th>Creator 1 Name</th>\n",
       "      <th>Creator 1 NameType</th>\n",
       "      <th>...</th>\n",
       "      <th>Subject (Topic) 4 Heading Type</th>\n",
       "      <th>Subject (Topic) 4 Source</th>\n",
       "      <th>Subject (Topic) 5 Heading</th>\n",
       "      <th>Subject (Topic) 5 Heading Type</th>\n",
       "      <th>Subject (Topic) 5 Source</th>\n",
       "      <th>Subject (Topic) 6 Heading</th>\n",
       "      <th>Subject (Topic) 6 Heading Type</th>\n",
       "      <th>Subject (Topic) 6 Source</th>\n",
       "      <th>Ocr text</th>\n",
       "      <th>Corrected Text</th>\n",
       "    </tr>\n",
       "  </thead>\n",
       "  <tbody>\n",
       "    <tr>\n",
       "      <th>0</th>\n",
       "      <td>0</td>\n",
       "      <td>AIDS Legal Referral Panel Records, 2000-46, Bo...</td>\n",
       "      <td>\"Prop 64: The AIDS Initiative in California\"</td>\n",
       "      <td>glbths_200046_003_002</td>\n",
       "      <td>text</td>\n",
       "      <td>1986</td>\n",
       "      <td>created</td>\n",
       "      <td>Digital resource published by the Regents of t...</td>\n",
       "      <td>AIDS Legal Referral Panel</td>\n",
       "      <td>corpname</td>\n",
       "      <td>...</td>\n",
       "      <td>topic</td>\n",
       "      <td>lcsh</td>\n",
       "      <td></td>\n",
       "      <td></td>\n",
       "      <td></td>\n",
       "      <td></td>\n",
       "      <td></td>\n",
       "      <td></td>\n",
       "      <td>PROPOSITION 64 The AIDSInitiativein California...</td>\n",
       "      <td>proposition 64 the aids initiative in califor...</td>\n",
       "    </tr>\n",
       "    <tr>\n",
       "      <th>1</th>\n",
       "      <td>1</td>\n",
       "      <td>AIDS Legal Referral Panel Records, 2000-46, Bo...</td>\n",
       "      <td>Management</td>\n",
       "      <td>glbths_200046_004_004</td>\n",
       "      <td>text</td>\n",
       "      <td>circa 1992</td>\n",
       "      <td>created</td>\n",
       "      <td>Digital resource published by the Regents of t...</td>\n",
       "      <td>AIDS Legal Referral Panel</td>\n",
       "      <td>corpname</td>\n",
       "      <td>...</td>\n",
       "      <td>topic</td>\n",
       "      <td>lcsh</td>\n",
       "      <td></td>\n",
       "      <td></td>\n",
       "      <td></td>\n",
       "      <td></td>\n",
       "      <td></td>\n",
       "      <td></td>\n",
       "      <td>MAKING YOUR WILL California State Aids Legal S...</td>\n",
       "      <td>making your will california state aids legal ...</td>\n",
       "    </tr>\n",
       "    <tr>\n",
       "      <th>2</th>\n",
       "      <td>2</td>\n",
       "      <td>AIDS Legal Referral Panel Records, 2000-46, Bo...</td>\n",
       "      <td>Board Meetings</td>\n",
       "      <td>glbths_200046_009_005</td>\n",
       "      <td>text</td>\n",
       "      <td>1995-1996</td>\n",
       "      <td>created</td>\n",
       "      <td>Digital resource published by the Regents of t...</td>\n",
       "      <td>AIDS Legal Referral Panel</td>\n",
       "      <td>corpname</td>\n",
       "      <td>...</td>\n",
       "      <td>topic</td>\n",
       "      <td>lcsh</td>\n",
       "      <td></td>\n",
       "      <td></td>\n",
       "      <td></td>\n",
       "      <td></td>\n",
       "      <td></td>\n",
       "      <td></td>\n",
       "      <td>January 11, 1997 Community Liaison Committee c...</td>\n",
       "      <td>january 11,1997 community liaison committee c...</td>\n",
       "    </tr>\n",
       "    <tr>\n",
       "      <th>3</th>\n",
       "      <td>3</td>\n",
       "      <td>AIDS Legal Referral Panel Records, 2000-46, Bo...</td>\n",
       "      <td>Correspondence</td>\n",
       "      <td>glbths_200046_001_0010</td>\n",
       "      <td>text</td>\n",
       "      <td>1985-1987</td>\n",
       "      <td>created</td>\n",
       "      <td>Digital resource published by the Regents of t...</td>\n",
       "      <td>AIDS Legal Referral Panel</td>\n",
       "      <td>corpname</td>\n",
       "      <td>...</td>\n",
       "      <td>topic</td>\n",
       "      <td>lcsh</td>\n",
       "      <td></td>\n",
       "      <td></td>\n",
       "      <td></td>\n",
       "      <td></td>\n",
       "      <td></td>\n",
       "      <td></td>\n",
       "      <td>^ GREAT REPUBLIC IIMSURAIMCE COMPANY i 470 SOU...</td>\n",
       "      <td>great republic iimsuraimce company i 470 sout...</td>\n",
       "    </tr>\n",
       "    <tr>\n",
       "      <th>4</th>\n",
       "      <td>4</td>\n",
       "      <td>AIDS Legal Referral Panel Records, 2000-46, Bo...</td>\n",
       "      <td>Letters of support</td>\n",
       "      <td>glbths_200046_003_006</td>\n",
       "      <td>text</td>\n",
       "      <td>1993</td>\n",
       "      <td>created</td>\n",
       "      <td>Digital resource published by the Regents of t...</td>\n",
       "      <td>AIDS Legal Referral Panel</td>\n",
       "      <td>corpname</td>\n",
       "      <td>...</td>\n",
       "      <td>topic</td>\n",
       "      <td>lcsh</td>\n",
       "      <td></td>\n",
       "      <td></td>\n",
       "      <td></td>\n",
       "      <td></td>\n",
       "      <td></td>\n",
       "      <td></td>\n",
       "      <td>SANFRANCISCOAIDSFOUNDATION P.O.BOX 426182,SANF...</td>\n",
       "      <td>san francisco aids foundation p. o. box 42618...</td>\n",
       "    </tr>\n",
       "  </tbody>\n",
       "</table>\n",
       "<p>5 rows × 55 columns</p>\n",
       "</div>"
      ],
      "text/plain": [
       "   Unnamed: 0                                   Collection Title  \\\n",
       "0           0  AIDS Legal Referral Panel Records, 2000-46, Bo...   \n",
       "1           1  AIDS Legal Referral Panel Records, 2000-46, Bo...   \n",
       "2           2  AIDS Legal Referral Panel Records, 2000-46, Bo...   \n",
       "3           3  AIDS Legal Referral Panel Records, 2000-46, Bo...   \n",
       "4           4  AIDS Legal Referral Panel Records, 2000-46, Bo...   \n",
       "\n",
       "                                          Title       Local Identifier   Type  \\\n",
       "0  \"Prop 64: The AIDS Initiative in California\"   glbths_200046_003_002  text   \n",
       "1                                    Management   glbths_200046_004_004  text   \n",
       "2                                Board Meetings   glbths_200046_009_005  text   \n",
       "3                                Correspondence  glbths_200046_001_0010  text   \n",
       "4                            Letters of support   glbths_200046_003_006  text   \n",
       "\n",
       "        Date  Date Type                       Publication/Origination Info  \\\n",
       "0        1986   created  Digital resource published by the Regents of t...   \n",
       "1  circa 1992   created  Digital resource published by the Regents of t...   \n",
       "2   1995-1996   created  Digital resource published by the Regents of t...   \n",
       "3   1985-1987   created  Digital resource published by the Regents of t...   \n",
       "4        1993   created  Digital resource published by the Regents of t...   \n",
       "\n",
       "              Creator 1 Name Creator 1 NameType  ...  \\\n",
       "0  AIDS Legal Referral Panel           corpname  ...   \n",
       "1  AIDS Legal Referral Panel           corpname  ...   \n",
       "2  AIDS Legal Referral Panel           corpname  ...   \n",
       "3  AIDS Legal Referral Panel           corpname  ...   \n",
       "4  AIDS Legal Referral Panel           corpname  ...   \n",
       "\n",
       "  Subject (Topic) 4 Heading Type Subject (Topic) 4 Source  \\\n",
       "0                          topic                     lcsh   \n",
       "1                          topic                     lcsh   \n",
       "2                          topic                     lcsh   \n",
       "3                          topic                     lcsh   \n",
       "4                          topic                     lcsh   \n",
       "\n",
       "  Subject (Topic) 5 Heading Subject (Topic) 5 Heading Type  \\\n",
       "0                                                            \n",
       "1                                                            \n",
       "2                                                            \n",
       "3                                                            \n",
       "4                                                            \n",
       "\n",
       "  Subject (Topic) 5 Source Subject (Topic) 6 Heading  \\\n",
       "0                                                      \n",
       "1                                                      \n",
       "2                                                      \n",
       "3                                                      \n",
       "4                                                      \n",
       "\n",
       "  Subject (Topic) 6 Heading Type Subject (Topic) 6 Source  \\\n",
       "0                                                           \n",
       "1                                                           \n",
       "2                                                           \n",
       "3                                                           \n",
       "4                                                           \n",
       "\n",
       "                                            Ocr text  \\\n",
       "0  PROPOSITION 64 The AIDSInitiativein California...   \n",
       "1  MAKING YOUR WILL California State Aids Legal S...   \n",
       "2  January 11, 1997 Community Liaison Committee c...   \n",
       "3  ^ GREAT REPUBLIC IIMSURAIMCE COMPANY i 470 SOU...   \n",
       "4  SANFRANCISCOAIDSFOUNDATION P.O.BOX 426182,SANF...   \n",
       "\n",
       "                                      Corrected Text  \n",
       "0   proposition 64 the aids initiative in califor...  \n",
       "1   making your will california state aids legal ...  \n",
       "2   january 11,1997 community liaison committee c...  \n",
       "3   great republic iimsuraimce company i 470 sout...  \n",
       "4   san francisco aids foundation p. o. box 42618...  \n",
       "\n",
       "[5 rows x 55 columns]"
      ]
     },
     "execution_count": 10,
     "metadata": {},
     "output_type": "execute_result"
    }
   ],
   "source": [
    "data.head()"
   ]
  },
  {
   "cell_type": "code",
   "execution_count": 11,
   "metadata": {},
   "outputs": [
    {
     "data": {
      "text/plain": [
       "AIDS History Project — Ephemera Collection, MSS 2000-31, box 4                         33\n",
       "Sally Hughes AIDS research collection, MSS 2001-04, carton 1, SFGH AIDS Ward folder    21\n",
       "AIDS Legal Referral Panel Records, 2000-46, Box 4, Folder 1                            17\n",
       "AIDS History Project Ephemera Collection, MSS 2000-31                                  15\n",
       "                                                                                        9\n",
       "                                                                                       ..\n",
       "Mobilization Against AIDS records, , MSS 95-03, carton 2 folder 18                      1\n",
       "Mobilization Against AIDS records, MSS 95-03, carton 1 folder 13                        1\n",
       "Mobilization Against AIDS records, , MSS 95-03, carton 2 folder 71                      1\n",
       "Mobilization Against AIDS records, , MSS 95-03, carton 2 folder 4                       1\n",
       "Mobilization Against AIDS records, MSS 95-03, carton 1 folder 12                        1\n",
       "Name: Collection Title, Length: 613, dtype: int64"
      ]
     },
     "execution_count": 11,
     "metadata": {},
     "output_type": "execute_result"
    }
   ],
   "source": [
    "data['Collection Title'].value_counts()"
   ]
  },
  {
   "cell_type": "code",
   "execution_count": 12,
   "metadata": {},
   "outputs": [
    {
     "data": {
      "text/html": [
       "<div>\n",
       "<style scoped>\n",
       "    .dataframe tbody tr th:only-of-type {\n",
       "        vertical-align: middle;\n",
       "    }\n",
       "\n",
       "    .dataframe tbody tr th {\n",
       "        vertical-align: top;\n",
       "    }\n",
       "\n",
       "    .dataframe thead th {\n",
       "        text-align: right;\n",
       "    }\n",
       "</style>\n",
       "<table border=\"1\" class=\"dataframe\">\n",
       "  <thead>\n",
       "    <tr style=\"text-align: right;\">\n",
       "      <th></th>\n",
       "      <th>Unnamed: 0</th>\n",
       "      <th>Collection Title</th>\n",
       "      <th>Title</th>\n",
       "      <th>Local Identifier</th>\n",
       "      <th>Type</th>\n",
       "      <th>Date</th>\n",
       "      <th>Date Type</th>\n",
       "      <th>Publication/Origination Info</th>\n",
       "      <th>Creator 1 Name</th>\n",
       "      <th>Creator 1 NameType</th>\n",
       "      <th>...</th>\n",
       "      <th>Subject (Topic) 4 Heading Type</th>\n",
       "      <th>Subject (Topic) 4 Source</th>\n",
       "      <th>Subject (Topic) 5 Heading</th>\n",
       "      <th>Subject (Topic) 5 Heading Type</th>\n",
       "      <th>Subject (Topic) 5 Source</th>\n",
       "      <th>Subject (Topic) 6 Heading</th>\n",
       "      <th>Subject (Topic) 6 Heading Type</th>\n",
       "      <th>Subject (Topic) 6 Source</th>\n",
       "      <th>Ocr text</th>\n",
       "      <th>Corrected Text</th>\n",
       "    </tr>\n",
       "  </thead>\n",
       "  <tbody>\n",
       "    <tr>\n",
       "      <th>344</th>\n",
       "      <td>344</td>\n",
       "      <td>NaN</td>\n",
       "      <td>MSS 2000-31 AIDS Ephemera Collection</td>\n",
       "      <td></td>\n",
       "      <td></td>\n",
       "      <td></td>\n",
       "      <td></td>\n",
       "      <td></td>\n",
       "      <td></td>\n",
       "      <td></td>\n",
       "      <td>...</td>\n",
       "      <td></td>\n",
       "      <td></td>\n",
       "      <td></td>\n",
       "      <td></td>\n",
       "      <td></td>\n",
       "      <td></td>\n",
       "      <td></td>\n",
       "      <td></td>\n",
       "      <td></td>\n",
       "      <td></td>\n",
       "    </tr>\n",
       "    <tr>\n",
       "      <th>357</th>\n",
       "      <td>357</td>\n",
       "      <td>NaN</td>\n",
       "      <td>Public</td>\n",
       "      <td></td>\n",
       "      <td></td>\n",
       "      <td></td>\n",
       "      <td></td>\n",
       "      <td></td>\n",
       "      <td></td>\n",
       "      <td></td>\n",
       "      <td>...</td>\n",
       "      <td></td>\n",
       "      <td></td>\n",
       "      <td></td>\n",
       "      <td></td>\n",
       "      <td></td>\n",
       "      <td></td>\n",
       "      <td></td>\n",
       "      <td></td>\n",
       "      <td></td>\n",
       "      <td></td>\n",
       "    </tr>\n",
       "    <tr>\n",
       "      <th>395</th>\n",
       "      <td>395</td>\n",
       "      <td>NaN</td>\n",
       "      <td>MSS 2009-04 Dritz</td>\n",
       "      <td></td>\n",
       "      <td></td>\n",
       "      <td></td>\n",
       "      <td></td>\n",
       "      <td></td>\n",
       "      <td></td>\n",
       "      <td></td>\n",
       "      <td>...</td>\n",
       "      <td></td>\n",
       "      <td></td>\n",
       "      <td></td>\n",
       "      <td></td>\n",
       "      <td></td>\n",
       "      <td></td>\n",
       "      <td></td>\n",
       "      <td></td>\n",
       "      <td></td>\n",
       "      <td></td>\n",
       "    </tr>\n",
       "    <tr>\n",
       "      <th>648</th>\n",
       "      <td>648</td>\n",
       "      <td>NaN</td>\n",
       "      <td>MSS 98-47 ACT-UP Golden Gate records</td>\n",
       "      <td></td>\n",
       "      <td></td>\n",
       "      <td></td>\n",
       "      <td></td>\n",
       "      <td></td>\n",
       "      <td></td>\n",
       "      <td></td>\n",
       "      <td>...</td>\n",
       "      <td></td>\n",
       "      <td></td>\n",
       "      <td></td>\n",
       "      <td></td>\n",
       "      <td></td>\n",
       "      <td></td>\n",
       "      <td></td>\n",
       "      <td></td>\n",
       "      <td></td>\n",
       "      <td></td>\n",
       "    </tr>\n",
       "  </tbody>\n",
       "</table>\n",
       "<p>4 rows × 55 columns</p>\n",
       "</div>"
      ],
      "text/plain": [
       "     Unnamed: 0 Collection Title                                 Title  \\\n",
       "344         344              NaN  MSS 2000-31 AIDS Ephemera Collection   \n",
       "357         357              NaN                                Public   \n",
       "395         395              NaN                     MSS 2009-04 Dritz   \n",
       "648         648              NaN  MSS 98-47 ACT-UP Golden Gate records   \n",
       "\n",
       "    Local Identifier  Type Date  Date Type Publication/Origination Info  \\\n",
       "344                                                                       \n",
       "357                                                                       \n",
       "395                                                                       \n",
       "648                                                                       \n",
       "\n",
       "    Creator 1 Name Creator 1 NameType  ... Subject (Topic) 4 Heading Type  \\\n",
       "344                                    ...                                  \n",
       "357                                    ...                                  \n",
       "395                                    ...                                  \n",
       "648                                    ...                                  \n",
       "\n",
       "    Subject (Topic) 4 Source Subject (Topic) 5 Heading  \\\n",
       "344                                                      \n",
       "357                                                      \n",
       "395                                                      \n",
       "648                                                      \n",
       "\n",
       "    Subject (Topic) 5 Heading Type Subject (Topic) 5 Source  \\\n",
       "344                                                           \n",
       "357                                                           \n",
       "395                                                           \n",
       "648                                                           \n",
       "\n",
       "    Subject (Topic) 6 Heading Subject (Topic) 6 Heading Type  \\\n",
       "344                                                            \n",
       "357                                                            \n",
       "395                                                            \n",
       "648                                                            \n",
       "\n",
       "    Subject (Topic) 6 Source Ocr text Corrected Text  \n",
       "344                                                   \n",
       "357                                                   \n",
       "395                                                   \n",
       "648                                                   \n",
       "\n",
       "[4 rows x 55 columns]"
      ]
     },
     "execution_count": 12,
     "metadata": {},
     "output_type": "execute_result"
    }
   ],
   "source": [
    "data[data['Collection Title'].map(lambda a: isinstance(a, float))]  \n",
    "# confirmed these missing  rows are imported correctly"
   ]
  },
  {
   "cell_type": "code",
   "execution_count": 13,
   "metadata": {},
   "outputs": [
    {
     "data": {
      "text/plain": [
       "<class 'str'>    735\n",
       "Name: Ocr text, dtype: int64"
      ]
     },
     "execution_count": 13,
     "metadata": {},
     "output_type": "execute_result"
    }
   ],
   "source": [
    "data['Ocr text'].map(type).value_counts()"
   ]
  },
  {
   "cell_type": "code",
   "execution_count": 14,
   "metadata": {},
   "outputs": [
    {
     "data": {
      "text/plain": [
       "count       735.000000\n",
       "mean      70714.420408\n",
       "std      110159.634847\n",
       "min           1.000000\n",
       "25%        7410.500000\n",
       "50%       27285.000000\n",
       "75%       84169.500000\n",
       "max      813212.000000\n",
       "Name: Ocr text, dtype: float64"
      ]
     },
     "execution_count": 14,
     "metadata": {},
     "output_type": "execute_result"
    }
   ],
   "source": [
    "data['Ocr text'].map(len).describe()"
   ]
  },
  {
   "cell_type": "code",
   "execution_count": 17,
   "metadata": {},
   "outputs": [
    {
     "ename": "SyntaxError",
     "evalue": "invalid syntax (<ipython-input-17-1fd95eb42218>, line 1)",
     "output_type": "error",
     "traceback": [
      "\u001b[0;36m  File \u001b[0;32m\"<ipython-input-17-1fd95eb42218>\"\u001b[0;36m, line \u001b[0;32m1\u001b[0m\n\u001b[0;31m    ** STOP HERE **\u001b[0m\n\u001b[0m     ^\u001b[0m\n\u001b[0;31mSyntaxError\u001b[0m\u001b[0;31m:\u001b[0m invalid syntax\n"
     ]
    }
   ],
   "source": [
    "** STOP HERE **\n",
    "# the below is for reference only"
   ]
  },
  {
   "cell_type": "markdown",
   "metadata": {},
   "source": [
    "## Process Document OCR Data"
   ]
  },
  {
   "cell_type": "code",
   "execution_count": 15,
   "metadata": {
    "scrolled": true
   },
   "outputs": [
    {
     "name": "stderr",
     "output_type": "stream",
     "text": [
      "/opt/conda/lib/python3.7/site-packages/tqdm/std.py:648: FutureWarning: The Panel class is removed from pandas. Accessing it from the top-level namespace will also be removed in the next version\n",
      "  from pandas import Panel\n",
      "  1%|          | 6/735 [00:34<1:11:53,  5.92s/it]"
     ]
    },
    {
     "ename": "KeyboardInterrupt",
     "evalue": "",
     "output_type": "error",
     "traceback": [
      "\u001b[0;31m---------------------------------------------------------------------------\u001b[0m",
      "\u001b[0;31mKeyboardInterrupt\u001b[0m                         Traceback (most recent call last)",
      "\u001b[0;32m<timed exec>\u001b[0m in \u001b[0;36m<module>\u001b[0;34m\u001b[0m\n",
      "\u001b[0;32m/opt/conda/lib/python3.7/site-packages/tqdm/std.py\u001b[0m in \u001b[0;36minner\u001b[0;34m(df, func, *args, **kwargs)\u001b[0m\n\u001b[1;32m    734\u001b[0m                 \u001b[0;31m# Apply the provided function (in **kwargs)\u001b[0m\u001b[0;34m\u001b[0m\u001b[0;34m\u001b[0m\u001b[0;34m\u001b[0m\u001b[0m\n\u001b[1;32m    735\u001b[0m                 \u001b[0;31m# on the df using our wrapper (which provides bar updating)\u001b[0m\u001b[0;34m\u001b[0m\u001b[0;34m\u001b[0m\u001b[0;34m\u001b[0m\u001b[0m\n\u001b[0;32m--> 736\u001b[0;31m                 \u001b[0mresult\u001b[0m \u001b[0;34m=\u001b[0m \u001b[0mgetattr\u001b[0m\u001b[0;34m(\u001b[0m\u001b[0mdf\u001b[0m\u001b[0;34m,\u001b[0m \u001b[0mdf_function\u001b[0m\u001b[0;34m)\u001b[0m\u001b[0;34m(\u001b[0m\u001b[0mwrapper\u001b[0m\u001b[0;34m,\u001b[0m \u001b[0;34m**\u001b[0m\u001b[0mkwargs\u001b[0m\u001b[0;34m)\u001b[0m\u001b[0;34m\u001b[0m\u001b[0;34m\u001b[0m\u001b[0m\n\u001b[0m\u001b[1;32m    737\u001b[0m \u001b[0;34m\u001b[0m\u001b[0m\n\u001b[1;32m    738\u001b[0m                 \u001b[0;31m# Close bar and return pandas calculation result\u001b[0m\u001b[0;34m\u001b[0m\u001b[0;34m\u001b[0m\u001b[0;34m\u001b[0m\u001b[0m\n",
      "\u001b[0;32m/opt/conda/lib/python3.7/site-packages/pandas/core/series.py\u001b[0m in \u001b[0;36mmap\u001b[0;34m(self, arg, na_action)\u001b[0m\n\u001b[1;32m   3826\u001b[0m         \u001b[0mdtype\u001b[0m\u001b[0;34m:\u001b[0m \u001b[0mobject\u001b[0m\u001b[0;34m\u001b[0m\u001b[0;34m\u001b[0m\u001b[0m\n\u001b[1;32m   3827\u001b[0m         \"\"\"\n\u001b[0;32m-> 3828\u001b[0;31m         \u001b[0mnew_values\u001b[0m \u001b[0;34m=\u001b[0m \u001b[0msuper\u001b[0m\u001b[0;34m(\u001b[0m\u001b[0;34m)\u001b[0m\u001b[0;34m.\u001b[0m\u001b[0m_map_values\u001b[0m\u001b[0;34m(\u001b[0m\u001b[0marg\u001b[0m\u001b[0;34m,\u001b[0m \u001b[0mna_action\u001b[0m\u001b[0;34m=\u001b[0m\u001b[0mna_action\u001b[0m\u001b[0;34m)\u001b[0m\u001b[0;34m\u001b[0m\u001b[0;34m\u001b[0m\u001b[0m\n\u001b[0m\u001b[1;32m   3829\u001b[0m         \u001b[0;32mreturn\u001b[0m \u001b[0mself\u001b[0m\u001b[0;34m.\u001b[0m\u001b[0m_constructor\u001b[0m\u001b[0;34m(\u001b[0m\u001b[0mnew_values\u001b[0m\u001b[0;34m,\u001b[0m \u001b[0mindex\u001b[0m\u001b[0;34m=\u001b[0m\u001b[0mself\u001b[0m\u001b[0;34m.\u001b[0m\u001b[0mindex\u001b[0m\u001b[0;34m)\u001b[0m\u001b[0;34m.\u001b[0m\u001b[0m__finalize__\u001b[0m\u001b[0;34m(\u001b[0m\u001b[0mself\u001b[0m\u001b[0;34m)\u001b[0m\u001b[0;34m\u001b[0m\u001b[0;34m\u001b[0m\u001b[0m\n\u001b[1;32m   3830\u001b[0m \u001b[0;34m\u001b[0m\u001b[0m\n",
      "\u001b[0;32m/opt/conda/lib/python3.7/site-packages/pandas/core/base.py\u001b[0m in \u001b[0;36m_map_values\u001b[0;34m(self, mapper, na_action)\u001b[0m\n\u001b[1;32m   1298\u001b[0m \u001b[0;34m\u001b[0m\u001b[0m\n\u001b[1;32m   1299\u001b[0m         \u001b[0;31m# mapper is a function\u001b[0m\u001b[0;34m\u001b[0m\u001b[0;34m\u001b[0m\u001b[0;34m\u001b[0m\u001b[0m\n\u001b[0;32m-> 1300\u001b[0;31m         \u001b[0mnew_values\u001b[0m \u001b[0;34m=\u001b[0m \u001b[0mmap_f\u001b[0m\u001b[0;34m(\u001b[0m\u001b[0mvalues\u001b[0m\u001b[0;34m,\u001b[0m \u001b[0mmapper\u001b[0m\u001b[0;34m)\u001b[0m\u001b[0;34m\u001b[0m\u001b[0;34m\u001b[0m\u001b[0m\n\u001b[0m\u001b[1;32m   1301\u001b[0m \u001b[0;34m\u001b[0m\u001b[0m\n\u001b[1;32m   1302\u001b[0m         \u001b[0;32mreturn\u001b[0m \u001b[0mnew_values\u001b[0m\u001b[0;34m\u001b[0m\u001b[0;34m\u001b[0m\u001b[0m\n",
      "\u001b[0;32mpandas/_libs/lib.pyx\u001b[0m in \u001b[0;36mpandas._libs.lib.map_infer\u001b[0;34m()\u001b[0m\n",
      "\u001b[0;32m/opt/conda/lib/python3.7/site-packages/tqdm/std.py\u001b[0m in \u001b[0;36mwrapper\u001b[0;34m(*args, **kwargs)\u001b[0m\n\u001b[1;32m    730\u001b[0m                     \u001b[0;31m# take a fast or slow code path; so stop when t.total==t.n\u001b[0m\u001b[0;34m\u001b[0m\u001b[0;34m\u001b[0m\u001b[0;34m\u001b[0m\u001b[0m\n\u001b[1;32m    731\u001b[0m                     \u001b[0mt\u001b[0m\u001b[0;34m.\u001b[0m\u001b[0mupdate\u001b[0m\u001b[0;34m(\u001b[0m\u001b[0mn\u001b[0m\u001b[0;34m=\u001b[0m\u001b[0;36m1\u001b[0m \u001b[0;32mif\u001b[0m \u001b[0;32mnot\u001b[0m \u001b[0mt\u001b[0m\u001b[0;34m.\u001b[0m\u001b[0mtotal\u001b[0m \u001b[0;32mor\u001b[0m \u001b[0mt\u001b[0m\u001b[0;34m.\u001b[0m\u001b[0mn\u001b[0m \u001b[0;34m<\u001b[0m \u001b[0mt\u001b[0m\u001b[0;34m.\u001b[0m\u001b[0mtotal\u001b[0m \u001b[0;32melse\u001b[0m \u001b[0;36m0\u001b[0m\u001b[0;34m)\u001b[0m\u001b[0;34m\u001b[0m\u001b[0;34m\u001b[0m\u001b[0m\n\u001b[0;32m--> 732\u001b[0;31m                     \u001b[0;32mreturn\u001b[0m \u001b[0mfunc\u001b[0m\u001b[0;34m(\u001b[0m\u001b[0;34m*\u001b[0m\u001b[0margs\u001b[0m\u001b[0;34m,\u001b[0m \u001b[0;34m**\u001b[0m\u001b[0mkwargs\u001b[0m\u001b[0;34m)\u001b[0m\u001b[0;34m\u001b[0m\u001b[0;34m\u001b[0m\u001b[0m\n\u001b[0m\u001b[1;32m    733\u001b[0m \u001b[0;34m\u001b[0m\u001b[0m\n\u001b[1;32m    734\u001b[0m                 \u001b[0;31m# Apply the provided function (in **kwargs)\u001b[0m\u001b[0;34m\u001b[0m\u001b[0;34m\u001b[0m\u001b[0;34m\u001b[0m\u001b[0m\n",
      "\u001b[0;32m/opt/conda/lib/python3.7/site-packages/spacy/language.py\u001b[0m in \u001b[0;36m__call__\u001b[0;34m(self, text, disable, component_cfg)\u001b[0m\n\u001b[1;32m    393\u001b[0m             \u001b[0;32mif\u001b[0m \u001b[0;32mnot\u001b[0m \u001b[0mhasattr\u001b[0m\u001b[0;34m(\u001b[0m\u001b[0mproc\u001b[0m\u001b[0;34m,\u001b[0m \u001b[0;34m\"__call__\"\u001b[0m\u001b[0;34m)\u001b[0m\u001b[0;34m:\u001b[0m\u001b[0;34m\u001b[0m\u001b[0;34m\u001b[0m\u001b[0m\n\u001b[1;32m    394\u001b[0m                 \u001b[0;32mraise\u001b[0m \u001b[0mValueError\u001b[0m\u001b[0;34m(\u001b[0m\u001b[0mErrors\u001b[0m\u001b[0;34m.\u001b[0m\u001b[0mE003\u001b[0m\u001b[0;34m.\u001b[0m\u001b[0mformat\u001b[0m\u001b[0;34m(\u001b[0m\u001b[0mcomponent\u001b[0m\u001b[0;34m=\u001b[0m\u001b[0mtype\u001b[0m\u001b[0;34m(\u001b[0m\u001b[0mproc\u001b[0m\u001b[0;34m)\u001b[0m\u001b[0;34m,\u001b[0m \u001b[0mname\u001b[0m\u001b[0;34m=\u001b[0m\u001b[0mname\u001b[0m\u001b[0;34m)\u001b[0m\u001b[0;34m)\u001b[0m\u001b[0;34m\u001b[0m\u001b[0;34m\u001b[0m\u001b[0m\n\u001b[0;32m--> 395\u001b[0;31m             \u001b[0mdoc\u001b[0m \u001b[0;34m=\u001b[0m \u001b[0mproc\u001b[0m\u001b[0;34m(\u001b[0m\u001b[0mdoc\u001b[0m\u001b[0;34m,\u001b[0m \u001b[0;34m**\u001b[0m\u001b[0mcomponent_cfg\u001b[0m\u001b[0;34m.\u001b[0m\u001b[0mget\u001b[0m\u001b[0;34m(\u001b[0m\u001b[0mname\u001b[0m\u001b[0;34m,\u001b[0m \u001b[0;34m{\u001b[0m\u001b[0;34m}\u001b[0m\u001b[0;34m)\u001b[0m\u001b[0;34m)\u001b[0m\u001b[0;34m\u001b[0m\u001b[0;34m\u001b[0m\u001b[0m\n\u001b[0m\u001b[1;32m    396\u001b[0m             \u001b[0;32mif\u001b[0m \u001b[0mdoc\u001b[0m \u001b[0;32mis\u001b[0m \u001b[0;32mNone\u001b[0m\u001b[0;34m:\u001b[0m\u001b[0;34m\u001b[0m\u001b[0;34m\u001b[0m\u001b[0m\n\u001b[1;32m    397\u001b[0m                 \u001b[0;32mraise\u001b[0m \u001b[0mValueError\u001b[0m\u001b[0;34m(\u001b[0m\u001b[0mErrors\u001b[0m\u001b[0;34m.\u001b[0m\u001b[0mE005\u001b[0m\u001b[0;34m.\u001b[0m\u001b[0mformat\u001b[0m\u001b[0;34m(\u001b[0m\u001b[0mname\u001b[0m\u001b[0;34m=\u001b[0m\u001b[0mname\u001b[0m\u001b[0;34m)\u001b[0m\u001b[0;34m)\u001b[0m\u001b[0;34m\u001b[0m\u001b[0;34m\u001b[0m\u001b[0m\n",
      "\u001b[0;32mnn_parser.pyx\u001b[0m in \u001b[0;36mspacy.syntax.nn_parser.Parser.__call__\u001b[0;34m()\u001b[0m\n",
      "\u001b[0;32mnn_parser.pyx\u001b[0m in \u001b[0;36mspacy.syntax.nn_parser.Parser.predict\u001b[0;34m()\u001b[0m\n",
      "\u001b[0;32mnn_parser.pyx\u001b[0m in \u001b[0;36mspacy.syntax.nn_parser.Parser.greedy_parse\u001b[0;34m()\u001b[0m\n",
      "\u001b[0;32m/opt/conda/lib/python3.7/site-packages/thinc/neural/_classes/model.py\u001b[0m in \u001b[0;36m__call__\u001b[0;34m(self, x)\u001b[0m\n\u001b[1;32m    167\u001b[0m             \u001b[0mMust\u001b[0m \u001b[0mmatch\u001b[0m \u001b[0mexpected\u001b[0m \u001b[0mshape\u001b[0m\u001b[0;34m\u001b[0m\u001b[0;34m\u001b[0m\u001b[0m\n\u001b[1;32m    168\u001b[0m         \"\"\"\n\u001b[0;32m--> 169\u001b[0;31m         \u001b[0;32mreturn\u001b[0m \u001b[0mself\u001b[0m\u001b[0;34m.\u001b[0m\u001b[0mpredict\u001b[0m\u001b[0;34m(\u001b[0m\u001b[0mx\u001b[0m\u001b[0;34m)\u001b[0m\u001b[0;34m\u001b[0m\u001b[0;34m\u001b[0m\u001b[0m\n\u001b[0m\u001b[1;32m    170\u001b[0m \u001b[0;34m\u001b[0m\u001b[0m\n\u001b[1;32m    171\u001b[0m     \u001b[0;32mdef\u001b[0m \u001b[0mpipe\u001b[0m\u001b[0;34m(\u001b[0m\u001b[0mself\u001b[0m\u001b[0;34m,\u001b[0m \u001b[0mstream\u001b[0m\u001b[0;34m,\u001b[0m \u001b[0mbatch_size\u001b[0m\u001b[0;34m=\u001b[0m\u001b[0;36m128\u001b[0m\u001b[0;34m)\u001b[0m\u001b[0;34m:\u001b[0m\u001b[0;34m\u001b[0m\u001b[0;34m\u001b[0m\u001b[0m\n",
      "\u001b[0;32m/opt/conda/lib/python3.7/site-packages/thinc/neural/_classes/model.py\u001b[0m in \u001b[0;36mpredict\u001b[0;34m(self, X)\u001b[0m\n\u001b[1;32m    131\u001b[0m \u001b[0;34m\u001b[0m\u001b[0m\n\u001b[1;32m    132\u001b[0m     \u001b[0;32mdef\u001b[0m \u001b[0mpredict\u001b[0m\u001b[0;34m(\u001b[0m\u001b[0mself\u001b[0m\u001b[0;34m,\u001b[0m \u001b[0mX\u001b[0m\u001b[0;34m)\u001b[0m\u001b[0;34m:\u001b[0m\u001b[0;34m\u001b[0m\u001b[0;34m\u001b[0m\u001b[0m\n\u001b[0;32m--> 133\u001b[0;31m         \u001b[0my\u001b[0m\u001b[0;34m,\u001b[0m \u001b[0m_\u001b[0m \u001b[0;34m=\u001b[0m \u001b[0mself\u001b[0m\u001b[0;34m.\u001b[0m\u001b[0mbegin_update\u001b[0m\u001b[0;34m(\u001b[0m\u001b[0mX\u001b[0m\u001b[0;34m,\u001b[0m \u001b[0mdrop\u001b[0m\u001b[0;34m=\u001b[0m\u001b[0;32mNone\u001b[0m\u001b[0;34m)\u001b[0m\u001b[0;34m\u001b[0m\u001b[0;34m\u001b[0m\u001b[0m\n\u001b[0m\u001b[1;32m    134\u001b[0m         \u001b[0;32mreturn\u001b[0m \u001b[0my\u001b[0m\u001b[0;34m\u001b[0m\u001b[0;34m\u001b[0m\u001b[0m\n\u001b[1;32m    135\u001b[0m \u001b[0;34m\u001b[0m\u001b[0m\n",
      "\u001b[0;32m_parser_model.pyx\u001b[0m in \u001b[0;36mspacy.syntax._parser_model.ParserModel.begin_update\u001b[0;34m()\u001b[0m\n",
      "\u001b[0;32m_parser_model.pyx\u001b[0m in \u001b[0;36mspacy.syntax._parser_model.ParserStepModel.__init__\u001b[0;34m()\u001b[0m\n",
      "\u001b[0;32m_parser_model.pyx\u001b[0m in \u001b[0;36mspacy.syntax._parser_model.precompute_hiddens.__init__\u001b[0;34m()\u001b[0m\n",
      "\u001b[0;32m/opt/conda/lib/python3.7/site-packages/spacy/_ml.py\u001b[0m in \u001b[0;36mbegin_update\u001b[0;34m(self, X, drop)\u001b[0m\n\u001b[1;32m    183\u001b[0m         )\n\u001b[1;32m    184\u001b[0m         \u001b[0mYf\u001b[0m \u001b[0;34m=\u001b[0m \u001b[0mYf\u001b[0m\u001b[0;34m.\u001b[0m\u001b[0mreshape\u001b[0m\u001b[0;34m(\u001b[0m\u001b[0;34m(\u001b[0m\u001b[0mYf\u001b[0m\u001b[0;34m.\u001b[0m\u001b[0mshape\u001b[0m\u001b[0;34m[\u001b[0m\u001b[0;36m0\u001b[0m\u001b[0;34m]\u001b[0m\u001b[0;34m,\u001b[0m \u001b[0mself\u001b[0m\u001b[0;34m.\u001b[0m\u001b[0mnF\u001b[0m\u001b[0;34m,\u001b[0m \u001b[0mself\u001b[0m\u001b[0;34m.\u001b[0m\u001b[0mnO\u001b[0m\u001b[0;34m,\u001b[0m \u001b[0mself\u001b[0m\u001b[0;34m.\u001b[0m\u001b[0mnP\u001b[0m\u001b[0;34m)\u001b[0m\u001b[0;34m)\u001b[0m\u001b[0;34m\u001b[0m\u001b[0;34m\u001b[0m\u001b[0m\n\u001b[0;32m--> 185\u001b[0;31m         \u001b[0mYf\u001b[0m \u001b[0;34m=\u001b[0m \u001b[0mself\u001b[0m\u001b[0;34m.\u001b[0m\u001b[0m_add_padding\u001b[0m\u001b[0;34m(\u001b[0m\u001b[0mYf\u001b[0m\u001b[0;34m)\u001b[0m\u001b[0;34m\u001b[0m\u001b[0;34m\u001b[0m\u001b[0m\n\u001b[0m\u001b[1;32m    186\u001b[0m \u001b[0;34m\u001b[0m\u001b[0m\n\u001b[1;32m    187\u001b[0m         \u001b[0;32mdef\u001b[0m \u001b[0mbackward\u001b[0m\u001b[0;34m(\u001b[0m\u001b[0mdY_ids\u001b[0m\u001b[0;34m,\u001b[0m \u001b[0msgd\u001b[0m\u001b[0;34m=\u001b[0m\u001b[0;32mNone\u001b[0m\u001b[0;34m)\u001b[0m\u001b[0;34m:\u001b[0m\u001b[0;34m\u001b[0m\u001b[0;34m\u001b[0m\u001b[0m\n",
      "\u001b[0;32m/opt/conda/lib/python3.7/site-packages/spacy/_ml.py\u001b[0m in \u001b[0;36m_add_padding\u001b[0;34m(self, Yf)\u001b[0m\n\u001b[1;32m    214\u001b[0m \u001b[0;34m\u001b[0m\u001b[0m\n\u001b[1;32m    215\u001b[0m     \u001b[0;32mdef\u001b[0m \u001b[0m_add_padding\u001b[0m\u001b[0;34m(\u001b[0m\u001b[0mself\u001b[0m\u001b[0;34m,\u001b[0m \u001b[0mYf\u001b[0m\u001b[0;34m)\u001b[0m\u001b[0;34m:\u001b[0m\u001b[0;34m\u001b[0m\u001b[0;34m\u001b[0m\u001b[0m\n\u001b[0;32m--> 216\u001b[0;31m         \u001b[0mYf_padded\u001b[0m \u001b[0;34m=\u001b[0m \u001b[0mself\u001b[0m\u001b[0;34m.\u001b[0m\u001b[0mops\u001b[0m\u001b[0;34m.\u001b[0m\u001b[0mxp\u001b[0m\u001b[0;34m.\u001b[0m\u001b[0mvstack\u001b[0m\u001b[0;34m(\u001b[0m\u001b[0;34m(\u001b[0m\u001b[0mself\u001b[0m\u001b[0;34m.\u001b[0m\u001b[0mpad\u001b[0m\u001b[0;34m,\u001b[0m \u001b[0mYf\u001b[0m\u001b[0;34m)\u001b[0m\u001b[0;34m)\u001b[0m\u001b[0;34m\u001b[0m\u001b[0;34m\u001b[0m\u001b[0m\n\u001b[0m\u001b[1;32m    217\u001b[0m         \u001b[0;32mreturn\u001b[0m \u001b[0mYf_padded\u001b[0m\u001b[0;34m\u001b[0m\u001b[0;34m\u001b[0m\u001b[0m\n\u001b[1;32m    218\u001b[0m \u001b[0;34m\u001b[0m\u001b[0m\n",
      "\u001b[0;32m/opt/conda/lib/python3.7/site-packages/numpy/core/shape_base.py\u001b[0m in \u001b[0;36mvstack\u001b[0;34m(tup)\u001b[0m\n\u001b[1;32m    281\u001b[0m     \"\"\"\n\u001b[1;32m    282\u001b[0m     \u001b[0m_warn_for_nonsequence\u001b[0m\u001b[0;34m(\u001b[0m\u001b[0mtup\u001b[0m\u001b[0;34m)\u001b[0m\u001b[0;34m\u001b[0m\u001b[0;34m\u001b[0m\u001b[0m\n\u001b[0;32m--> 283\u001b[0;31m     \u001b[0;32mreturn\u001b[0m \u001b[0m_nx\u001b[0m\u001b[0;34m.\u001b[0m\u001b[0mconcatenate\u001b[0m\u001b[0;34m(\u001b[0m\u001b[0;34m[\u001b[0m\u001b[0matleast_2d\u001b[0m\u001b[0;34m(\u001b[0m\u001b[0m_m\u001b[0m\u001b[0;34m)\u001b[0m \u001b[0;32mfor\u001b[0m \u001b[0m_m\u001b[0m \u001b[0;32min\u001b[0m \u001b[0mtup\u001b[0m\u001b[0;34m]\u001b[0m\u001b[0;34m,\u001b[0m \u001b[0;36m0\u001b[0m\u001b[0;34m)\u001b[0m\u001b[0;34m\u001b[0m\u001b[0;34m\u001b[0m\u001b[0m\n\u001b[0m\u001b[1;32m    284\u001b[0m \u001b[0;34m\u001b[0m\u001b[0m\n\u001b[1;32m    285\u001b[0m \u001b[0;34m\u001b[0m\u001b[0m\n",
      "\u001b[0;31mKeyboardInterrupt\u001b[0m: "
     ]
    }
   ],
   "source": [
    "%%time\n",
    "# Process docs\n",
    "import tqdm as tqdm_mod\n",
    "from tqdm import tqdm, tqdm_notebook, tqdm_pandas\n",
    "tqdm.pandas()\n",
    "# tqdm_pandas()\n",
    "parsed = data['Corrected Text'].progress_map(nlp)"
   ]
  },
  {
   "cell_type": "code",
   "execution_count": 38,
   "metadata": {},
   "outputs": [
    {
     "data": {
      "text/plain": [
       "True"
      ]
     },
     "execution_count": 38,
     "metadata": {},
     "output_type": "execute_result"
    }
   ],
   "source": [
    "# test serialization\n",
    "t = nlp(data[\"Ocr text\"][0])\n",
    "import pickle\n",
    "with open('test','wb') as f:\n",
    "    pickle.dump(t, f)\n",
    "\n",
    "with open('test', 'rb') as f:\n",
    "    r = pickle.load(f)\n",
    "type(r)\n",
    "\n",
    "assert len(t) == len(r)\n",
    "assert all([str(r[i]) == str(t[i]) for i in range(len(r))])"
   ]
  },
  {
   "cell_type": "code",
   "execution_count": null,
   "metadata": {},
   "outputs": [],
   "source": [
    "# serialize\n",
    "# note: each file is about 1Gb on disk\n",
    "import os\n",
    "from tqdm import tqdm_notebook\n",
    "import pickle\n",
    "if not os.path.exists('spacy_objs'):\n",
    "    os.mkdir('spacy_objs')\n",
    "for i,obj in tqdm(enumerate(parsed), total=735):\n",
    "    with open(os.path.join('spacy_objs', 'doc-{:04}.spacy'.format(i)), 'wb') as f:\n",
    "        pickle.dump(obj, f)"
   ]
  },
  {
   "cell_type": "code",
   "execution_count": null,
   "metadata": {},
   "outputs": [],
   "source": [
    "# deserialize\n",
    "import os\n",
    "parsed = []\n",
    "for file in sorted(os.listdir('spacy_objs')):\n",
    "    if file.endswith('.spacy'):\n",
    "        with open(os.path.join('spacy_objs',file), 'rb') as f:\n",
    "            parsed.append(pickle.load(f))\n",
    "print(len(parsed))"
   ]
  },
  {
   "cell_type": "code",
   "execution_count": 16,
   "metadata": {},
   "outputs": [],
   "source": [
    "# create text blob for whole-corpus analysis\n",
    "blob = '\\n<DOC_DELIM>\\n\\n'.join(data['Ocr text'].map(str).tolist())"
   ]
  },
  {
   "cell_type": "code",
   "execution_count": 55,
   "metadata": {},
   "outputs": [],
   "source": [
    "with open('all_ocr.txt','wb') as f:\n",
    "    f.write(bytes(blob, 'UTF-8'))"
   ]
  },
  {
   "cell_type": "code",
   "execution_count": 60,
   "metadata": {},
   "outputs": [
    {
     "name": "stdout",
     "output_type": "stream",
     "text": [
      "51985375\n"
     ]
    }
   ],
   "source": [
    "print(len(blob))\n",
    "total = nlp(blob[:int(1e6)])\n",
    "# longer than 1e6 characters, which is default upper limit for spacy.\n",
    "# if not using parser or NER engines, which require 1GB memory per 1e5 characters, probably ok"
   ]
  },
  {
   "cell_type": "markdown",
   "metadata": {},
   "source": [
    "ideas: \n",
    "Should separate words appearing in camel case as easy fix for missed spaces\n",
    "otherwise... difficult, vocab based methods?"
   ]
  },
  {
   "cell_type": "raw",
   "metadata": {},
   "source": [
    "get names from: \n",
    "\n",
    "https://www.behindthename.com/names/1 to 75\n",
    "\n",
    "use as search terms for people\n",
    "\n",
    "potential address regexes:\n",
    "https://stackoverflow.com/questions/11456670/regular-expression-for-address-field-validation\n",
    "\n",
    "\\d{1,5}\\s\\w.\\s(\\b\\w*\\b\\s){1,2}\\w*\\.\n",
    "\n",
    "\n",
    "       .Append(\"(?<h>^[\\d]+[ ])(?<s>.+$)|\")                'find the 2013 1st ambonstreet \n",
    "       .Append(\"(?<s>^.*?)(?<h>[ ][\\d]+[ ])(?<e>[\\D]+$)|\") 'find the 1-7-4 Dual Ampstreet 130 A\n",
    "       .Append(\"(?<s>^[\\D]+[ ])(?<h>[\\d]+)(?<e>.*?$)|\")    'find the Terheydenlaan 320 B3 \n",
    "       .Append(\"(?<s>^.*?)(?<h>\\d*?$)\") \n",
    "    \n",
    "    \\d+[ ](?:[A-Za-z0-9.-]+[ ]?)+(?:Avenue|Lane|Road|Boulevard|Drive|Street|Ave|Dr|Rd|Blvd|Ln|St)\\.?\n",
    "    \n",
    "    \\s*([0-9]*)\\s((NW|SW|SE|NE|S|N|E|W))?(.*)((NW|SW|SE|NE|S|N|E|W))?((#|APT|BSMT|BLDG|DEPT|FL|FRNT|HNGR|KEY|LBBY|LOT|LOWR|OFC|PH|PIER|REAR|RM|SIDE|SLIP|SPC|STOP|STE|TRLR|UNIT|UPPR|\\,)[^,]*)(\\,)([\\s\\w]*)\\n\n",
    "    \n",
    "    /\\s+(\\d{2,5}\\s+)(?![a|p]m\\b)(([a-zA-Z|\\s+]{1,5}){1,2})?([\\s|\\,|.]+)?(([a-zA-Z|\\s+]{1,30}){1,4})(court|ct|street|st|drive|dr|lane|ln|road|rd|blvd)([\\s|\\,|.|\\;]+)?(([a-zA-Z|\\s+]{1,30}){1,2})([\\s|\\,|.]+)?\\b(AK|AL|AR|AZ|CA|CO|CT|DC|DE|FL|GA|GU|HI|IA|ID|IL|IN|KS|KY|LA|MA|MD|ME|MI|MN|MO|MS|MT|NC|ND|NE|NH|NJ|NM|NV|NY|OH|OK|OR|PA|RI|SC|SD|TN|TX|UT|VA|VI|VT|WA|WI|WV|WY)([\\s|\\,|.]+)?(\\s+\\d{5})?([\\s|\\,|.]+)/i\n",
    "    \n",
    "    \n",
    "    /\\b(\\d{2,5}\\s+)(?![a|p]m\\b)(NW|NE|SW|SE|north|south|west|east|n|e|s|w)?([\\s|\\,|.]+)?(([a-zA-Z|\\s+]{1,30}){1,4})(court|ct|street|st|drive|dr|lane|ln|road|rd|blvd)/i\n",
    "\n",
    "https://smartystreets.com/products/single-address?mode=extract\n",
    "Paid option, or 250 address free address verifications per month. Address extraction/verification tool\n",
    "\n",
    "Yelp and Google API for addresses?\n",
    "\n",
    "\n",
    "http://regexlib.com/Search.aspx?k=street&AspxAutoDetectCookieSupport=1\n",
    "\n",
    " \t\n",
    "\\d{1,3}.?\\d{0,3}\\s[a-zA-Z]{2,30}\\s[a-zA-Z]{2,15}\n",
    "\n",
    "^\\d{5}(-\\d{4})?$  # zip codes\n",
    "\n",
    "^(?n:(?<address1>(\\d{1,5}(\\ 1\\/[234])?(\\x20[A-Z]([a-z])+)+ )|(P\\.O\\.\\ Box\\ \\d{1,5}))\\s{1,2}(?i:(?<address2>(((APT|B LDG|DEPT|FL|HNGR|LOT|PIER|RM|S(LIP|PC|T(E|OP))|TRLR|UNIT)\\x20\\w{1,5})|(BSMT|FRNT|LBBY|LOWR|OFC|PH|REAR|SIDE|UPPR)\\.?)\\s{1,2})?)(?<city>[A-Z]([a-z])+(\\.?)(\\x20[A-Z]([a-z])+){0,2})\\, \\x20(?<state>A[LKSZRAP]|C[AOT]|D[EC]|F[LM]|G[AU]|HI|I[ADL N]|K[SY]|LA|M[ADEHINOPST]|N[CDEHJMVY]|O[HKR]|P[ARW]|RI|S[CD] |T[NX]|UT|V[AIT]|W[AIVY])\\x20(?<zipcode>(?!0{5})\\d{5}(-\\d {4})?))$\n",
    "\n",
    "^\\s*((?:(?:\\d+(?:\\x20+\\w+\\.?)+(?:(?:\\x20+STREET|ST|DRIVE|DR|AVENUE|AVE|ROAD|RD|LOOP|COURT|CT|CIRCLE|LANE|LN|BOULEVARD|BLVD)\\.?)?)|(?:(?:P\\.\\x20?O\\.|P\\x20?O)\\x20*Box\\x20+\\d+)|(?:General\\x20+Delivery)|(?:C[\\\\\\/]O\\x20+(?:\\w+\\x20*)+))\\,?\\x20*(?:(?:(?:APT|BLDG|DEPT|FL|HNGR|LOT|PIER|RM|S(?:LIP|PC|T(?:E|OP))|TRLR|UNIT|\\x23)\\.?\\x20*(?:[a-zA-Z0-9\\-]+))|(?:BSMT|FRNT|LBBY|LOWR|OFC|PH|REAR|SIDE|UPPR))?)\\,?\\s+((?:(?:\\d+(?:\\x20+\\w+\\.?)+(?:(?:\\x20+STREET|ST|DRIVE|DR|AVENUE|AVE|ROAD|RD|LOOP|COURT|CT|CIRCLE|LANE|LN|BOULEVARD|BLVD)\\.?)?)|(?:(?:P\\.\\x20?O\\.|P\\x20?O)\\x20*Box\\x20+\\d+)|(?:General\\x20+Delivery)|(?:C[\\\\\\/]O\\x20+(?:\\w+\\x20*)+))\\,?\\x20*(?:(?:(?:APT|BLDG|DEPT|FL|HNGR|LOT|PIER|RM|S(?:LIP|PC|T(?:E|OP))|TRLR|UNIT|\\x23)\\.?\\x20*(?:[a-zA-Z0-9\\-]+))|(?:BSMT|FRNT|LBBY|LOWR|OFC|PH|REAR|SIDE|UPPR))?)?\\,?\\s+((?:[A-Za-z]+\\x20*)+)\\,\\s+(A[LKSZRAP]|C[AOT]|D[EC]|F[LM]|G[AU]|HI|I[ADLN]|K[SY]|LA|M[ADEHINOPST]|N[CDEHJMVY]|O[HKR]|P[ARW]|RI|S[CD]|T[NX]|UT|V[AIT]|W[AIVY])\\s+(\\d+(?:-\\d+)?)\\s*$\n",
    "\n",
    "^[ \\w]{3,}([A-Za-z]\\.)?([ \\w]*\\#\\d+)?(\\r\\n| )[ \\w]{3,},\\x20[A-Za-z]{2}\\x20\\d{5}(-\\d{4})?$\n",
    "\n",
    "\n",
    "((?<strPOBox>((POBox|PO\\sBox)\\s*\\d*)),?\\s?)?(((?<strUnit>([\\w\\d\\s\\,]*)),\\s?)?( (?<strStreet>([\\w\\s\\-]*\\w\\s(st\\s)?[\\w]*\\s(street|st|road|rd|close|cl|avenue|ave|av|path|ph|drive|drv|LOOP|COURT|CT|CIRCLE|LANE|LN)) ),?\\s?))?((?<strTown>([\\p{Ll}\\p{Lu}\\p{Lo}\\p{Pc}\\p{Lt}\\p{Lm}\\s]*)),?\\s?)?((?<strState>(Victoria|VIC|New South Wales|NSW|South Australia|SA|Northern Territory|NT|West Australia|WA|Tasmania|TAS|ACT|Queensland|QLD))\\s*)?(?<strPostalCode>(\\d{4}),?\\s?)?(?<strCountry>(Australia))?\n",
    "    \n",
    "    ((\\d{1,6}\\-\\d{1,6})|(\\d{1,6}\\\\\\d{1,6})|(\\d{1,6})(\\/)(\\d{1,6})|(\\w{1}\\-?\\d{1,6})|(\\w{1}\\s\\d{1,6})|((P\\.?O\\.?\\s)((BOX)|(Box))(\\s\\d{1,6}))|((([R]{2})|([H][C]))(\\s\\d{1,6}\\s)((BOX)|(Box))(\\s\\d{1,6}))?)$  # street number\n",
    "    \n",
    "    ^(\\d{3,})\\s?(\\w{0,5})\\s([a-zA-Z]{2,30})\\s([a-zA-Z]{2,15})\\.?\\s?(\\w{0,5})$\n",
    "    \n",
    "    ^\\d{1,6}\\040([A-Z]{1}[a-z]{1,}\\040[A-Z]{1}[a-z]{1,})$|^\\d{1,6}\\040([A-Z]{1}[a-z]{1,}\\040[A-Z]{1}[a-z]{1,}\\040[A-Z]{1}[a-z]{1,})$|^\\d{1,6}\\040([A-Z]{1}[a-z]{1,}\\040[A-Z]{1}[a-z]{1,}\\040[A-Z]{1}[a-z]{1,}\\040[A-Z]{1}[a-z]{1,})$\n",
    "    \n",
    "    ^ (?<FullStreet> (?<Detail>(?:C/[-O]?[a-z\\ ]*?)?\\ *)? (?<POBox>P[\\.\\ ]?O[\\.\\ ]?\\ ?Box\\ *\\d+) | (?:(?<Detail>(?:C/[-O]?)?[\\w\\ ,\\.']+?),?/?\\ *?)? \\ *?\\b(?<StreetNum>(?:\\d+-)?\\d+[a-z]?)[\\ ] (?<StreetFullName> (?<StreetName>(?:[\\w\\ '-]|st)+) (?:\\b(?<StreetType>ALLEY|ALLY|APPROACH|APP|ARCADE|ARC|AVENUE|AVE|BOULEVARD|BLVD|BROW|BYPASS|BYPA|CAUSEWAY|CWAY|CIRCUIT|CCT|CIRCUS|CIRC|CLOSE|CL|COPSE|CPSE|CORNER|CNR|COVE|COURT|CRT|CT|CRESCENT|CRES|DRIVE|DR|END|ESPLANANDE|ESP|FLAT|FREEWAY|FWAY|FRONTAGE|FRNT|GARDENS|GDNS|GLADE|GLD|GLEN|GREEN|GRN|GROVE|GR|HEIGHTS|HTS|HIGHWAY|HWY|LANE|LINK|LOOP|MALL|MEWS|PACKET|PCKT|PARADE|PDE|PARK|PARKWAY|PKWY|PLACE|PL|PROMENADE|PROM|RESERVE|RES|RIDGE|RDGE|RISE|ROAD|RD|ROW|SQUARE|SQ|STREET|ST|STRIP|STRP|TARN|TERRACE|TCE|THOROUGHFARE|TFRE|TRACK|TRAC|TRUNKWAY|TWAY|VIEW|VISTA|VSTA|WALK|WAY|WALKWAY|WWAY|YARD )\\b) ) ) (?:,?\\ *?(?<Town>[a-z'.]+(?:,?\\ +[a-z'.]+)*?))? (?:,?\\ *?(?<State>Victoria|VIC|New South Wales|NSW|South Australia|SA|Northern Territory|NT|West Australia|WA|Tasmania|TAS|Australian Capital Territory|ACT|Queensland|QLD))? (?:,?\\ *?(?<PostalCode>\\d{3,4}))? (?:,?\\ *?(?<Country>Au(?:stralia)?))? (?:(?=[^$])\\s)* $\n",
    "    \n",
    "    \n",
    " the below contains (?>) groups, non backtracking. These do not exist in Python RegEx\n",
    "    /(?:(?<=^)|(?<=[;:.,|][ ])|(?<=[[('\"]))(?:[)]?P\\.?O\\.?(?:(?i)[ ]?Box)?[ ]{0,2}(?<PO>\\d{1,5})[)]?|(?<HouseNumber>(?>(?:(?<NumberException>(?:19[789]|20[0123])\\d)|\\d+?(?:[-\\\\\\/]\\d{1,3})?)(?=(?:[;,]|[-\\\\\\/]?[A-Za-z]\\d?)?\\s)))(?:(?<DoorSide>[-\\\\\\/]?[A-Za-z]\\d{0,2}))?,?\\s{0,2}(?>(?:(?:^|[ ]{1,2})(?<StreetPrefix>AU|EI?|GR|H[AW]|JO|K|M[AEM]|N[EOW]?|O[HLMV]|RD|S[EW]?|TE|W)\\b)?)(?:(?:^|[ ]{1,2})(?<StreetName>(?:\\p{Lu}[-'\\p{L}]*?(?:\\.?[ ]{1,2}\\p{Lu}[-'\\p{L}]*?){0,8}?(?>(?<StreetNameIndicator>(?i)BOULEVARD|PLAZA|ROAD|STR(?:ASSE|EET)|WA(?:LK|Y))?)|(?<StreetOrdinal>\\d{1,3}(?:[. ]?(?:°|st|[nr]d|th))))\\b))(?:(?:(?>[ ]{1,2}(?i)(?<StreetType>A(?:C(?:CESS|RES)|LLEY|NX|PPROACH|R(?:CADE|TERY)|VE(?:NUE)?)|B(?:A(?:NK|SIN|Y)|CH|E(?:ACH|ND)|L(?:DG|VD)?|O(?:ULEVARD|ARDWALK|WL)|R(?:ACE|AE|EAK|IDGE|O(?:ADWAY|OK|W))?|YPASS)|C(?:A(?:NAL|USEWAY)|ENTRE(?:WAY)?|H(?:A(?:NN?EL|SE)?)?|I(?:R(?:C(?:LET?|U(?:IT|S)))?)?|L(?:B|OSE)?|O(?:MMON|NCOURSE|OP|PSE|R(?:[DK]|NER|S[OT])|UR(?:[VS]E|T(?:YARD)?)|VE)?|R(?:ES(?:CENT|T)?|IEF|OSS(?:ING)?)|T[RS]?|U(?:LDESAC|RVE)|V)|D(?:ALE|EVIATION|I[PV]|M|OWNS|R(?:IVE(?:WAY)?)?)|E(?:ASEMENT|DGE|LBOW|N(?:D|TRANCE)|S(?:PLANADE|T(?:ATE|S))|X(?:P(?:(?:(?:RESS)?WA)?Y)|T(?:ENSION)?))|F(?:AIRWAY|I(?:ELDS?|RETRAIL)|L(?:DS?|S)|O(?:LLOW|R(?:D|MATION))|R(?:D|EEWAY|ONT(?:AGE|ROAD)?))|G(?:A(?:P|RDENS?|TE(?:S|WAY)?)|L(?:ADE|EN)|R(?:ANGE|EEN|O(?:UND|V(?:ET?)?))?)|H(?:AVEN|BR|E(?:ATH|IGHTS)|I(?:GHWAY|LL)|L|OUSE|TS|UB|WY)|I(?:NTER(?:CHANGE)?|SLAND)|J(?:C|UNCTION)|K(?:EY|NOLL)|L(?:A(?:NE(?:WAY)?)?|DG|IN(?:E|K)|N|O(?:O(?:KOUT|P)|WER)?)|M(?:A(?:LL)?|DWS?|E(?:A(?:D|NDER)|WS)|L|NR|OT(?:EL|ORWAY))|NO(?:OK)?|O(?:L|UTLOOK|V(?:ERPASS)?)|P(?:A(?:R(?:ADE|K(?:LANDS|WAY)?)|SS|TH(?:WAY)?)?|DE|I(?:ER|[KN]E)|KW?Y|L(?:A(?:CE|ZA)|Z)?|O(?:CKET|INT|RT)|RO(?:MENADE|PERTY)|T|URSUIT)?|QUA(?:D(?:RANT)?|YS?)|R(?:A?(?:MBLE|NCH)|DG?|E(?:ACH|S(?:ERVE|T)|T(?:REAT|URN))|I(?:D(?:E|GE)|NG|S(?:E|ING))|O(?:AD(?:WAY)?|TARY|U(?:ND|TE)|W)|R|UN)|S(?:CH|(?:ER(?:VICE)?WAY)|IDING|LOPE|MT|P(?:PGS|UR)|Q(?:UARE)?|T(?:A(?:TE)?|CT|EPS|HY|PL|RAND|R(?:EET|IP)|TER)?|UBWAY)|T(?:ARN|CE|E(?:R(?:RACE)?)?|HRO(?:UGHWAY|WAY)|O(?:LLWAY|P|R)|R(?:A(?:CK|IL)|FY|L)?|URN)|UN(?:DERPASS|IV)?|V(?:AL(?:E|LEY)|I(?:EW|S(?:TA)?)?|L(?:GS?|Y))|W(?:A(?:L[KL](?:WAY)?|Y)|HARF|YND)|XING)\\b\\.?){1,2})??(?>(?:[ ]{1,2}(?<StreetSuffix>E|N[EW]?|S[EW]?|W)\\b)?))(?:(?:^|[ ]{1,2}|[;,.]\\s{0,2}?)(?i)(?<Apt>(?:[#]?\\d{1,5}(?:[. ]{0,2}(?:°|st|[nr]d|th))?[;,. ]{0,2})?(?:(?:(?>(?:A|DE)P(?:AR)?T(?:MENT)?S?|B(?:UI)?LD(?:IN)?G?|FL(?:(?:OO)?R)?|HA?NGS?R|LOT|PIER|RM|S(LIP|PC|T(E|OP))|TRLR|UNIT|(?=[#]))(?:[ ]{1,2}[#]?\\w{1,5})??|BA?SE?ME?N?T|FRO?NT|LO?BBY|LOWE?R|OF(?:C|FICE)|P\\.?H|REAR|SIDE|UPPR)){1,3}(?:[#;,. ]{1,3}(?:[-.]?[A-Z\\d]){1,3})?)[;,.]?)?)(?<CityState>[-;,.[(]?\\s{1,4}(?<City>[A-Z][A-Za-z]{1,16}[.]?(?:[- ](?:[A-Z][A-Za-z]{0,16}|[a-z]{1,3})(?:(?:[- ][A-Za-z]{1,17}){1,7})?)?)(?<!\\s[ACDF-IK-PR-W][AC-EHI-PR-Z])[)]?(?>(?<State>[-;,.]?\\s{1,4}[[(]?(?<StateAbbr>A[LKSZRAP]|C[AOT]|D[EC]|F[LM]|G[AU]|HI|I[ADLN]|K[SY]|LA|M[ADEHINOPST]|N[CDEHJMVY]|O[HKR]|P[ARW]|RI|S[CD]|T[NX]|UT|V[AIT]|W[AIVY])\\b[])]?|[-;,.]\\s{0,3}[ ][[(]?(?=[A-Z])(?<StateName>(?i)Ala(?:bam+a|[sz]ka)|Ari[sz]ona|Arkan[sz]as|California|Colorado|Con+ec?t+icut+|Delaw[ae]re?|Flori?da|Georgia|Haw+ai+|Idaho|Ill?inois|Indiana|Iowa|Kansas|Kentu[ck]+[iy]|Louis+ian+a|Ma(?:ine|r[iy]land|s+achuset+s)|Mi(?:chigan|n+es+ot+a|s+is+ip+i|s+ouri)|Montana|Ne(?:bra[sz]ka|vada|w[ ]?(?:Hamp?shire|Jerse[iy]|Mexico|York))|[NS](?:o[ru]th|[.])[ ]?(?:Carolina|Dakota)|Ohio|Oklahoma|Oregon|Pen+s[iy]lvan+[iy]a|Rh?oa?de?[ ]?Island|Ten+es+e+|Texas|Ut+ah?|Vermont|Washington|(?:W(?:est|[.])?[ ]?)?Virginia|Wi[sz]cou?nsin|W[iy]om[iy]+ng?)[])]?)?)(?(State)|(?:(?<=[)])|(?! [A-Z]))))?(?>(?:[-;,.\\s]{0,4}(?:^|[ ]{1,2})[[(]?(?<ZipCode>(?!0{5})\\d{5}(?:-\\d{4})?)[])]?)?)(?(State)|(?(ZipCode)|(?(City)(?!)|(?(PO)|(?(NumberException)(?!)|(?(StreetNameIndicator)|(?(StreetType)|(?(StreetPrefix)|(?!)))))))))(?=[]).?!'\"\\s]|$)(?![ ]+\\d)/gmx\n",
    "    \n",
    "    ^(?<address1>(?>\\d{1,6}(?>\\ 1\\/[234])?( (N(orth)?|S(outh)?)? ?(E(ast)?|W(est)?))?((?> \\d+ ?(th|rd|st|nd))|(?> [A-Z](?>[a-z])+)+) (?>(?i)THROUGHWAY|TRAFFICWAY|CROSSROADS|EXPRESSWAY|BOULEVARD|CROSSROAD|EXTENSION|JUNCTIONS|MOUNTAINS|STRAVENUE|UNDERPASS|CAUSEWAY|CRESCENT|CROSSING|JUNCTION|MOTORWAY|MOUNTAIN|OVERPASS|PARKWAYS|TURNPIKE|VILLIAGE|VILLAGES|CENTERS|CIRCLES|COMMONS|CORNERS|ESTATES|EXPRESS|FORESTS|FREEWAY|GARDENS|GATEWAY|HARBORS|HIGHWAY|HOLLOWS|ISLANDS|JUNCTON|LANDING|MEADOWS|MOUNTIN|ORCHARD|PARKWAY|PASSAGE|PRAIRIE|RANCHES|SPRINGS|SQUARES|STATION|STRAVEN|STRVNUE|STREETS|TERRACE|TRAILER|TUNNELS|VALLEYS|VIADUCT|VILLAGE|ALLEE|ARCADE|AVENUE|BLUFFS|BOTTOM|BRANCH|BRIDGE|BROOKS|BYPASS|CANYON|CAUSWA|CENTER|CENTRE|CIRCLE|CLIFFS|COMMON|CORNER|COURSE|COURTS|CRSENT|CRSSNG|DIVIDE|DRIVES|ESTATE|EXTNSN|FIELDS|FOREST|FORGES|FREEWY|GARDEN|GATEWY|GATWAY|GREENS|GROVES|HARBOR|HIGHWY|HOLLOW|ISLAND|ISLNDS|JCTION|JUNCTN|KNOLLS|LIGHTS|MANORS|MEADOW|MEDOWS|MNTAIN|ORCHRD|PARKWY|PLAINS|POINTS|RADIAL|RADIEL|RAPIDS|RIDGES|SHOALS|SHOARS|SHORES|SKYWAY|SPRING|SPRNGS|SQUARE|STRAVN|STREAM|STREME|STREET|SUMITT|SUMMIT|TRACES|TRACKS|TRAILS|TUNNEL|TURNPK|UNIONS|VALLEY|VIADCT|VILLAG|ALLEE|ALLEY|ANNEX|AVENU|AVNUE|BAYOO|BAYOU|BEACH|BLUFF|BOTTM|BOULV|BRNCH|BRDGE|BROOK|BURGS|BYPAS|CANYN|CENTR|CNTER|CIRCL|CRCLE|CLIFF|COURT|COVES|CREEK|CRSNT|CREST|CURVE|DRIVE|FALLS|FERRY|FIELD|FLATS|FORDS|FORGE|FORKS|FRWAY|GARDN|GRDEN|GRDNS|GTWAY|GLENS|GREEN|GROVE|HARBR|HRBOR|HAVEN|HIWAY|HILLS|HOLWS|ISLND|ISLES|JCTNS|KNOLL|LAKES|LNDNG|LIGHT|LOCKS|LODGE|LOOPS|MANOR|MILLS|MISSN|MOUNT|MNTNS|PARKS|PKWAY|PKWYS|PATHS|PIKES|PINES|PLAIN|PLAZA|POINT|PORTS|RANCH|RNCHS|RAPID|RIDGE|RIVER|ROADS|ROUTE|SHOAL|SHOAR|SHORE|SPRNG|SPNGS|SPURS|STATN|STRAV|STRVN|SUMIT|TRACE|TRACK|TRAIL|TRLRS|TUNEL|TUNLS|TUNNL|TRNPK|UNION|VALLY|VIEWS|VILLG|VILLE|VISTA|WALKS|WELLS|ALLY|ANEX|ANNX|AVEN|BEND|BLUF|BLVD|BOUL|BURG|BYPA|BYPS|CAMP|CNYN|CAPE|CSWY|CENT|CNTR|CIRC|CRCL|CLFS|CLUB|CORS|CRSE|COVE|CRES|XING|DALE|DRIV|ESTS|EXPR|EXPW|EXPY|EXTN|EXTS|FALL|FRRY|FLDS|FLAT|FLTS|FORD|FRST|FORG|FORK|FRKS|FORT|FRWY|GRDN|GDNS|GTWY|GLEN|GROV|HARB|HIWY|HWAY|HILL|HLLW|HOLW|INLT|ISLE|JCTN|JCTS|KEYS|KNOL|KNLS|LAKE|LAND|LNDG|LANE|LOAF|LOCK|LCKS|LDGE|LODG|LOOP|MALL|MNRS|MDWS|MEWS|MILL|MSSN|MNTN|MTIN|NECK|ORCH|OVAL|PARK|PKWY|PASS|PATH|PIKE|PINE|PNES|PLNS|PLZA|PORT|PRTS|RADL|RAMP|RNCH|RPDS|REST|RDGE|RDGS|RIVR|ROAD|SHLS|SHRS|SPNG|SPGS|SPUR|SQRE|SQRS|STRA|STRM|STRT|TERR|TRCE|TRAK|TRKS|TRLS|TRLR|TUNL|VLLY|VLYS|VDCT|VIEW|VILL|VLGS|VIST|VSTA|WALK|WALL|WAYS|WELL|ALY|ANX|ARC|AVE|AVN|BCH|BND|BLF|BOT|BTM|BRG|BRK|BYP|CMP|CPE|CEN|CTR|CIR|CLF|CLB|COR|CTS|CRK|DAM|DIV|DVD|DRV|EST|EXP|EXT|FLS|FRY|FLD|FLT|FRD|FRG|FRK|FRT|FWY|GLN|GRN|GRV|HBR|HVN|HTS|HWY|HLS|ISS|JCT|KEY|KYS|KNL|LKS|LGT|LCK|LDG|MNR|MDW|MNT|MTN|NCK|OVL|PRK|PKY|PLN|PLZ|PTS|PRT|PRR|RAD|RPD|RST|RDG|RIV|RVR|RDS|ROW|RUE|RUN|SHL|SHR|SPG|SQR|SQU|STA|STN|STR|SMT|TER|TRK|TRL|VLY|VIA|VWS|VLG|VIS|VST|WAY|WLS|AV|BR|CP|CT|CV|DL|DM|DV|DR|FT|HT|HL|IS|KY|LK|LN|LF|MT|PL|PT|PR|RD|SQ|ST|UN|VW|VL|WY))( (N(orth)?|S(outh)?)? ?(E(ast)?|W(est)?)?)?)$\n",
    "\n"
   ]
  },
  {
   "cell_type": "code",
   "execution_count": 45,
   "metadata": {},
   "outputs": [
    {
     "data": {
      "text/plain": [
       "[]"
      ]
     },
     "execution_count": 45,
     "metadata": {},
     "output_type": "execute_result"
    }
   ],
   "source": [
    "import re\n",
    "address_regex = re.compile('''\\s+(\\d{2,5}\\s+)(?![a|p]m\\b)(([a-zA-Z|\\s+]{1,5}){1,2})?([\\s|\\,|.]+)?(([a-zA-Z|\\s+]{1,30}){1,4})(court|ct|street|st|drive|dr|lane|ln|road|rd|blvd)([\\s|\\,|.|\\;]+)?(([a-zA-Z|\\s+]{1,30}){1,2})([\\s|\\,|.]+)?\\b(AK|AL|AR|AZ|CA|CO|CT|DC|DE|FL|GA|GU|HI|IA|ID|IL|IN|KS|KY|LA|MA|MD|ME|MI|MN|MO|MS|MT|NC|ND|NE|NH|NJ|NM|NV|NY|OH|OK|OR|PA|RI|SC|SD|TN|TX|UT|VA|VI|VT|WA|WI|WV|WY)([\\s|\\,|.]+)?(\\s+\\d{5})?([\\s|\\,|.]+)''', \n",
    "                           re.IGNORECASE)\n",
    "\n",
    "address_regex = re.compile(r'\\d',\n",
    "                          re.IGNORECASE)\n",
    "\n",
    "address_regex.findall(data.loc[3, \"Ocr text\"])"
   ]
  },
  {
   "cell_type": "code",
   "execution_count": null,
   "metadata": {},
   "outputs": [],
   "source": [
    "data.loc[3, \"Ocr text\"]"
   ]
  },
  {
   "cell_type": "code",
   "execution_count": 57,
   "metadata": {},
   "outputs": [
    {
     "name": "stdout",
     "output_type": "stream",
     "text": [
      "2019-06-28 19:24:39.084803\n",
      "[[], [], [], []]\n",
      "elapsed: 0:00:00.833785\n"
     ]
    }
   ],
   "source": [
    "test = ['']*4\n",
    "test[0] = '''as a role model to others. The medium of expression includes \n",
    "but is not limited to written, vocal, dance, visual, or instrumental. All \n",
    "nominations must include a sample of the expressed medium, in completed \n",
    "form (audio, video, print). pgNbr=32 \"\"Women Making History\"\" Awards San \n",
    "Francisco Commission on the Status of Women 25 Van Ness Avenue, Room \n",
    "130 San Francisco, CA 94102 \"\"Women Making History\"\" Awards Nomination \n",
    "Form Nomination Category (Please Check-One): The Arts Women's Health Young \n",
    "Women's Empowerment This is your opportunity to honor a woman or an \n",
    "organization that is making an innovative contribution to women's \n",
    "history in San Francisco. Awards will be \n",
    "presented in the above th'''.replace('\\n','')\n",
    "\n",
    "test[1] = '''am interested in hearing more about the Women Make Change \n",
    "Training: Name Address/Zip Phone (day) (eve) Age Organization/Group \n",
    "(if any) Call Sonja at (415) 291-5454 if you would like: • more \n",
    "information • to be involved in organizing the Women Make Change \n",
    "Training (we need your input!) • child care or transportation costs \n",
    "paid for Women's AIDS \n",
    "Network. 3543 18tb Street, Suite 11. San Francisco, CA 94110. pgNbr=27 \n",
    "12/16/96 16:10 12-16-1996 4.: 11PM FROM ^ j^i_o-xo-yo i-n-<ii 1^.11 t-i'i \n",
    "yMi.ut.N-»MUUsis.>«>y J & 41S5541475 P.03_ .AO \\f\\.0 C7 12/ 13/96 To ; \n",
    "WAN Board Fr; I^isa O'Connor Re:Proposal for fullfilling my $500.00 \n",
    "Agreement for 1996 As the year comes ro an end, I'd like to propose \n",
    "the following way to finish my financial commitment as board member; \n",
    "TO date, I have contributed; CO - $150,00 Macys Passport $ 75.00 to \n",
    "be paid by check ny 2/97 $225.00 (following) proposed funds $500.00 I \n",
    "would like to propose that All the projected time, energy, \n",
    "set up/pick-u'''.replace('\\n','')\n",
    "\n",
    "test[2] = '''epidemic. However, studies have shown that the rates of \n",
    "those being tested drop significantly if the results are not fully \n",
    "anonymous. With the knowledge that their results would be reported \n",
    "to state health departments and the federal government, N fewer people \n",
    "will seek HIV counseling and testing services. This would not only \n",
    "result in people being unable to access the appropriate care for \n",
    "treatment that Representative Coburn expresses much interest in — \n",
    "because 3543 18TH STREET SUITE 11 they would not know their HIV status — \n",
    "but would also present an SAN FRANCISCO inaccurate piaure of the \n",
    "epidemic's demographics. CA 94110 415.621.4160 TEL 415.575.1181 \n",
    "FAX pgNbr=19 ALRP/WAN — HJi. 3937 — two Partner Notification \n",
    "Representative Coburn also fails to recognize the serious repercussions \n",
    "that would be created by partner notification, thereby precluding \n",
    "its efficacy. Women are at an extremely high risk of being subjected \n",
    "to violence following disclosure of their HIV status to a partner. \n",
    "Knowing that forced partner notification has been instituted would \n",
    "discourage women, in particular, from '''.replace('\\n','')\n",
    "\n",
    "test[3]  = '''\n",
    "luable program. We are pleased to have your support and assure you of \n",
    "our best efforts and best wishes, too. Cordially,// / \"\" Ann Grogan \n",
    "for CUOyt;^ • lo ^ r>nQjuULAiU5ta^ y(V^^-CL<;^ cx^ , UOjl. SLD VD ^^\n",
    "\\-4^yJZjQQ_j Q^aaunoflijb-ffvvci -!W£) \\o^ -W-ea>c^A_jM2ru^ pgNbr=103 \n",
    "tworlc MACY'S PASSPORTS Saturday, September 21,1996 Located at Union \n",
    "Square, San Francisco Tickets are $10, all proceeds of our tickets go \n",
    "to directly to WAN Each ticket turned in the day of the event will add \n",
    "an additional $3 Board members will be selling Passport tickets \n",
    "beginning in July For more info call Alyssa at 621-4160 pgNbr=104 WAN \n",
    "BOARD 1996 1) Margot Antonetty *Project Director, Integrated Services \n",
    "Network 2227 15th St. Baker Places, Inc. S.F., CA 94114 310 Townsend, \n",
    "#300 w 546-9946 S.F., CA 94107 h 255-1984 f 546-9947 Personnel, \n",
    "Fundraising/Finance 2) Hazel Betsey, SECRETARY 191 Duboce St., #101 S.F., \n",
    "CA 94103 w 487-4743 Mon. a.m., 9-1 p.m. w (510) 658-6930 Fri. a.m., \n",
    "10-2 p.m. h 864-4996 Personnel, Fundraising/Finance Public Benefits \n",
    "Counselor 3) Laura Carcagno AIDS Benefit Counselors *656 Key Route Blvd. \n",
    "470 Castro St., Ste. 202 Albany, CA 94706 w 703-9940 S.F.,CA 94114 h \n",
    "(510)528-7168 f 703-9942 *PubIic 4) Hleen Hansen Policy Director AIDS \n",
    "238-A Castro St. Legal Referral Panel (ALRP) 114 Sansome St., Ste. \n",
    "1129 S.F., CA 94114 w 291-5472 S.F., CA 94104 h 621-5620 Public f 291-5833 \n",
    "Policy Director Women's \n",
    "AIDS Network 114 Sansome St., Ste. 1129 S.F., CA 94104 5) \n",
    "Anna Heath 1060 Bush St., #207 S.F., CA 94109 h 771-4041 6) \n",
    "Helen Miramontes *Associate Clinical \n",
    "Professor 481 Pointe Pacific Dr., #8 UCSF, School of Nursing \n",
    "Daly City, CA 94104 Box 0608 w 476-6602 S.F., CA 94143-0608 h \n",
    "994-8664 f 476-6042 7) Lisa O'Connor, PRESIDENT Senior Counselor \n",
    "*P0 Box 427298 HIV Services S.F., CA 94142 Walden House, Inc. \n",
    "w 241-5555 890 Hayes Street h (510)834-6023 S.F.,CA 94901 f 241-5569 \n",
    "p 338-8891 Personnel COMMITTEE PARTICIPATION BOLDED & * INDICATES \n",
    "PREFERRED MAIUNG ADDRESS pgNbr=105 *CIinical Supervisor 8) Lorene \n",
    "Romero, VICE-PRESIDENT Baker Places 9596 Orion Dr. Support & Permanent \n",
    "Housing 545 Mission St., 5th Floor Windsor, CA 95492 w 284-1740x35 S.F., \n",
    "CA 94105 h (707)838-3292 f 284-1750 Chair, Personnel Fundraising/Pinance \n",
    "Educator and Outreach Worker 9) Naomi Schegloff TB Outreach Prevention \n",
    "Services (TOPS) *1473 Waller St. Dept. of Public Health S.F.,CA94117 \n",
    "973 Market w Street, Ste. 205 597-7950x12 h 681-4152 S.F., CA 94103 f \n",
    "974-5791 Chair, Fundraising/Pinance Asst. to Director of Community \n",
    "Building 10) Lateefah Simon The Center of *785 Fulton Young Women's \n",
    "Development St., #A Street Survival Project S.F., CA 94102 1095 \n",
    "Market w 487-8662 St., Ste. 608 h 626-1135 S.F., CA 94102 f 487-8664 \n",
    "Fundraising/Finance p 709-5132 Housing Project Developer 11) Ruthy \n",
    "Talansky, TREASURER Bernal 3525 17th Heights Housing Corporation St., \n",
    "#9 515 Cortland Ave. S.F.,CA 94110 w 206-2147 S.F.,CA 94110 h 621-6364 \n",
    "f 648-0793 *WAN Administrator Alyssa Izen, Staff Women's AIDS Network \n",
    "3756 20th St., # 2 584 Castro St., Ste. 321 S.F.,CA 94110 w 621-4160 \n",
    "S.F., CA 94114 h 285-4605 f 863-4740 WAN Erma Administrator, Special \n",
    "Women's Fund Smith, Ex-Officio Health Services Board Member Coordinator, \n",
    "CARE Clinic Planned Parenthood Golden Gate w 202-7430 815 h 641-1275 \n",
    "Eddy St., Ste. 100 f 776-1449 S.F., CA 94104 COMMITTEE PARTICIPATION \n",
    "BOLDED & * INDICATES PREFERRED MAIUNG ADDRESS pgNbr=106 Lcrene S- \n",
    "Romero TT ^ (707)838-4629 3t7/6/96 : 2 02 AM j 4/6 Hours All full time \n",
    "employees are expected to work an average 40 hour week. Part- time employees \n",
    "must work a minimum of twenty hours to be eligible tor benefits listed herein. \n",
    "The number of hours and days per week are flexible but need to be approved by \n",
    "the supervisor or Board President. Hours worked must be approved by the \n",
    "supervisor or Board President. I Sick Ledve \n",
    "When empl'''.replace('\\n','')\n",
    "\n",
    "import datetime\n",
    "now = datetime.datetime.now()\n",
    "print(now)\n",
    "print([address_regex.findall(i) for i in test])\n",
    "print('elapsed: {}'.format(datetime.datetime.now() - now))\n",
    "\n",
    "\n"
   ]
  },
  {
   "cell_type": "markdown",
   "metadata": {},
   "source": [
    "Docs with...\n",
    "\n",
    "Names:\n",
    "sfaf dinner\n",
    "usmss95-04-001-069\n",
    "\n",
    "Addresses:\n",
    "mss95-04_001_071 pamphlet\n",
    "mss95-04-001-047 support groups page\n",
    "glbths_200046-001-010-redacted (client comments form, p128)"
   ]
  }
 ],
 "metadata": {
  "kernelspec": {
   "display_name": "Python 3",
   "language": "python",
   "name": "python3"
  },
  "language_info": {
   "codemirror_mode": {
    "name": "ipython",
    "version": 3
   },
   "file_extension": ".py",
   "mimetype": "text/x-python",
   "name": "python",
   "nbconvert_exporter": "python",
   "pygments_lexer": "ipython3",
   "version": "3.7.3"
  }
 },
 "nbformat": 4,
 "nbformat_minor": 4
}
